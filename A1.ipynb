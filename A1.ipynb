{
 "cells": [
  {
   "cell_type": "code",
   "execution_count": 1,
   "id": "a21f7b17",
   "metadata": {},
   "outputs": [
    {
     "data": {
      "text/html": [
       "\n",
       "    <style> body {font-family: \"Roboto Condensed Light\", \"Roboto Condensed\";} h2 {padding: 10px 12px; background-color: #E64626; position: static; color: #ffffff; font-size: 40px;} .text_cell_render p { font-size: 15px; } .text_cell_render h1 { font-size: 30px; } h1 {padding: 10px 12px; background-color: #E64626; color: #ffffff; font-size: 40px;} .text_cell_render h3 { padding: 10px 12px; background-color: #0148A4; position: static; color: #ffffff; font-size: 20px;} h4:before{ \n",
       "    content: \"@\"; font-family:\"Wingdings\"; font-style:regular; margin-right: 4px;} .text_cell_render h4 {padding: 8px; font-family: \"Roboto Condensed Light\"; position: static; font-style: italic; background-color: #FFB800; color: #ffffff; font-size: 18px; text-align: center; border-radius: 5px;}input[type=submit] {background-color: #E64626; border: solid; border-color: #734036; color: white; padding: 8px 16px; text-decoration: none; margin: 4px 2px; cursor: pointer; border-radius: 20px;}</style>\n",
       "    <script> code_show=true; function code_toggle() {if (code_show){$('div.input').hide();} else {$('div.input').show();} code_show = !code_show} $( document ).ready(code_toggle);</script>\n",
       "    <form action=\"javascript:code_toggle()\"><input type=\"submit\" value=\"Hide/show all code.\"></form>\n"
      ],
      "text/plain": [
       "<IPython.core.display.HTML object>"
      ]
     },
     "execution_count": 1,
     "metadata": {},
     "output_type": "execute_result"
    }
   ],
   "source": [
    "from IPython.display import HTML\n",
    "HTML('''\n",
    "    <style> body {font-family: \"Roboto Condensed Light\", \"Roboto Condensed\";} h2 {padding: 10px 12px; background-color: #E64626; position: static; color: #ffffff; font-size: 40px;} .text_cell_render p { font-size: 15px; } .text_cell_render h1 { font-size: 30px; } h1 {padding: 10px 12px; background-color: #E64626; color: #ffffff; font-size: 40px;} .text_cell_render h3 { padding: 10px 12px; background-color: #0148A4; position: static; color: #ffffff; font-size: 20px;} h4:before{ \n",
    "    content: \"@\"; font-family:\"Wingdings\"; font-style:regular; margin-right: 4px;} .text_cell_render h4 {padding: 8px; font-family: \"Roboto Condensed Light\"; position: static; font-style: italic; background-color: #FFB800; color: #ffffff; font-size: 18px; text-align: center; border-radius: 5px;}input[type=submit] {background-color: #E64626; border: solid; border-color: #734036; color: white; padding: 8px 16px; text-decoration: none; margin: 4px 2px; cursor: pointer; border-radius: 20px;}</style>\n",
    "    <script> code_show=true; function code_toggle() {if (code_show){$('div.input').hide();} else {$('div.input').show();} code_show = !code_show} $( document ).ready(code_toggle);</script>\n",
    "    <form action=\"javascript:code_toggle()\"><input type=\"submit\" value=\"Hide/show all code.\"></form>\n",
    "''')"
   ]
  },
  {
   "cell_type": "markdown",
   "id": "a953f692",
   "metadata": {},
   "source": [
    "# Pre-process datasets"
   ]
  },
  {
   "cell_type": "markdown",
   "id": "d6e72b51",
   "metadata": {},
   "source": [
    "import packages"
   ]
  },
  {
   "cell_type": "code",
   "execution_count": 1,
   "id": "6ab3f870",
   "metadata": {},
   "outputs": [],
   "source": [
    "import pandas as pd\n",
    "import numpy as np\n",
    "import geopandas as gpd\n",
    "from shapely.geometry import Point, Polygon, MultiPolygon\n",
    "from geoalchemy2 import Geometry, WKTElement\n",
    "import matplotlib.pyplot as plt\n",
    "\n",
    "from sqlalchemy import inspect\n",
    "\n",
    "srid = 4326\n",
    "def create_wkt_element(geom, srid):\n",
    "    if geom.geom_type == 'Polygon':\n",
    "        geom = MultiPolygon([geom])\n",
    "    return WKTElement(geom.wkt, srid)"
   ]
  },
  {
   "cell_type": "markdown",
   "id": "6330e520",
   "metadata": {},
   "source": [
    "### Neighbourhoods"
   ]
  },
  {
   "cell_type": "code",
   "execution_count": 2,
   "id": "3f61ccb6",
   "metadata": {
    "scrolled": true
   },
   "outputs": [
    {
     "data": {
      "text/html": [
       "<div>\n",
       "<style scoped>\n",
       "    .dataframe tbody tr th:only-of-type {\n",
       "        vertical-align: middle;\n",
       "    }\n",
       "\n",
       "    .dataframe tbody tr th {\n",
       "        vertical-align: top;\n",
       "    }\n",
       "\n",
       "    .dataframe thead th {\n",
       "        text-align: right;\n",
       "    }\n",
       "</style>\n",
       "<table border=\"1\" class=\"dataframe\">\n",
       "  <thead>\n",
       "    <tr style=\"text-align: right;\">\n",
       "      <th></th>\n",
       "      <th>area_id</th>\n",
       "      <th>area_name</th>\n",
       "      <th>land_area</th>\n",
       "      <th>population</th>\n",
       "      <th>number_of_dwellings</th>\n",
       "      <th>number_of_businesses</th>\n",
       "      <th>median_annual_household_income</th>\n",
       "      <th>avg_monthly_rent</th>\n",
       "      <th>young</th>\n",
       "    </tr>\n",
       "  </thead>\n",
       "  <tbody>\n",
       "    <tr>\n",
       "      <th>0</th>\n",
       "      <td>102011028</td>\n",
       "      <td>Avoca Beach - Copacabana</td>\n",
       "      <td>643.8</td>\n",
       "      <td>7590</td>\n",
       "      <td>2325</td>\n",
       "      <td>738.0</td>\n",
       "      <td>46996.0</td>\n",
       "      <td>1906.0</td>\n",
       "      <td>2214</td>\n",
       "    </tr>\n",
       "    <tr>\n",
       "      <th>1</th>\n",
       "      <td>102011029</td>\n",
       "      <td>Box Head - MacMasters Beach</td>\n",
       "      <td>3208.6</td>\n",
       "      <td>10986</td>\n",
       "      <td>3847</td>\n",
       "      <td>907.0</td>\n",
       "      <td>42621.0</td>\n",
       "      <td>1682.0</td>\n",
       "      <td>2635</td>\n",
       "    </tr>\n",
       "    <tr>\n",
       "      <th>2</th>\n",
       "      <td>102011030</td>\n",
       "      <td>Calga - Kulnura</td>\n",
       "      <td>76795.1</td>\n",
       "      <td>4841</td>\n",
       "      <td>1575</td>\n",
       "      <td>1102.0</td>\n",
       "      <td>42105.0</td>\n",
       "      <td>1182.0</td>\n",
       "      <td>1098</td>\n",
       "    </tr>\n",
       "  </tbody>\n",
       "</table>\n",
       "</div>"
      ],
      "text/plain": [
       "     area_id                    area_name land_area population  \\\n",
       "0  102011028     Avoca Beach - Copacabana     643.8       7590   \n",
       "1  102011029  Box Head - MacMasters Beach    3208.6      10986   \n",
       "2  102011030              Calga - Kulnura   76795.1       4841   \n",
       "\n",
       "  number_of_dwellings number_of_businesses median_annual_household_income  \\\n",
       "0                2325                738.0                        46996.0   \n",
       "1                3847                907.0                        42621.0   \n",
       "2                1575               1102.0                        42105.0   \n",
       "\n",
       "  avg_monthly_rent young  \n",
       "0           1906.0  2214  \n",
       "1           1682.0  2635  \n",
       "2           1182.0  1098  "
      ]
     },
     "execution_count": 2,
     "metadata": {},
     "output_type": "execute_result"
    }
   ],
   "source": [
    "def comma_int_convert(string):\n",
    "    string = str(string)\n",
    "    if \",\" in string:\n",
    "        string = string.replace(\",\", \"\")\n",
    "    return string\n",
    "\n",
    "Neighbourhoods = pd.read_csv(\"Neighbourhoods.csv\")\n",
    "Neighbourhoods[\"young\"] = Neighbourhoods[\"0-4\"] + Neighbourhoods[\"5-9\"] + Neighbourhoods[\"10-14\"] + Neighbourhoods[\"15-19\"]\n",
    "Neighbourhoods = Neighbourhoods.drop(columns = {\"Unnamed: 0\", \"0-4\",\"5-9\", \"10-14\", \"15-19\"})\n",
    "Neighbourhoods = Neighbourhoods.dropna()\n",
    "Neighbourhoods = Neighbourhoods.drop_duplicates()\n",
    "\n",
    "neighbour_area = Neighbourhoods[\"area_id\"].tolist()\n",
    "neighbour_area = list(map(str, neighbour_area)) # get a list of area_id, filter sa_2 after\n",
    "\n",
    "## convert comma int to int\n",
    "for col in Neighbourhoods.columns:\n",
    "    Neighbourhoods[col] = Neighbourhoods[col].apply(comma_int_convert)\n",
    "\n",
    "Neighbourhoods.head(3)"
   ]
  },
  {
   "cell_type": "markdown",
   "id": "a9f18d45",
   "metadata": {},
   "source": [
    "### BusinessStats"
   ]
  },
  {
   "cell_type": "code",
   "execution_count": 3,
   "id": "c0b480a8",
   "metadata": {
    "scrolled": false
   },
   "outputs": [
    {
     "data": {
      "text/html": [
       "<div>\n",
       "<style scoped>\n",
       "    .dataframe tbody tr th:only-of-type {\n",
       "        vertical-align: middle;\n",
       "    }\n",
       "\n",
       "    .dataframe tbody tr th {\n",
       "        vertical-align: top;\n",
       "    }\n",
       "\n",
       "    .dataframe thead th {\n",
       "        text-align: right;\n",
       "    }\n",
       "</style>\n",
       "<table border=\"1\" class=\"dataframe\">\n",
       "  <thead>\n",
       "    <tr style=\"text-align: right;\">\n",
       "      <th></th>\n",
       "      <th>area_id</th>\n",
       "      <th>area_name</th>\n",
       "      <th>number_of_businesses</th>\n",
       "      <th>accommodation_and_food_services</th>\n",
       "      <th>retail_trade</th>\n",
       "      <th>agriculture_forestry_and_fishing</th>\n",
       "      <th>health_care_and_social_assistance</th>\n",
       "      <th>public_administration_and_safety</th>\n",
       "      <th>transport_postal_and_warehousing</th>\n",
       "    </tr>\n",
       "  </thead>\n",
       "  <tbody>\n",
       "    <tr>\n",
       "      <th>22</th>\n",
       "      <td>101051540</td>\n",
       "      <td>Goulburn Region</td>\n",
       "      <td>1891</td>\n",
       "      <td>38</td>\n",
       "      <td>52</td>\n",
       "      <td>1041</td>\n",
       "      <td>33</td>\n",
       "      <td>3</td>\n",
       "      <td>81</td>\n",
       "    </tr>\n",
       "    <tr>\n",
       "      <th>27</th>\n",
       "      <td>102011028</td>\n",
       "      <td>Avoca Beach - Copacabana</td>\n",
       "      <td>724</td>\n",
       "      <td>33</td>\n",
       "      <td>35</td>\n",
       "      <td>4</td>\n",
       "      <td>60</td>\n",
       "      <td>0</td>\n",
       "      <td>19</td>\n",
       "    </tr>\n",
       "    <tr>\n",
       "      <th>28</th>\n",
       "      <td>102011029</td>\n",
       "      <td>Box Head - MacMasters Beach</td>\n",
       "      <td>934</td>\n",
       "      <td>23</td>\n",
       "      <td>45</td>\n",
       "      <td>13</td>\n",
       "      <td>43</td>\n",
       "      <td>3</td>\n",
       "      <td>28</td>\n",
       "    </tr>\n",
       "  </tbody>\n",
       "</table>\n",
       "</div>"
      ],
      "text/plain": [
       "      area_id                    area_name  number_of_businesses  \\\n",
       "22  101051540              Goulburn Region                  1891   \n",
       "27  102011028     Avoca Beach - Copacabana                   724   \n",
       "28  102011029  Box Head - MacMasters Beach                   934   \n",
       "\n",
       "    accommodation_and_food_services  retail_trade  \\\n",
       "22                               38            52   \n",
       "27                               33            35   \n",
       "28                               23            45   \n",
       "\n",
       "    agriculture_forestry_and_fishing  health_care_and_social_assistance  \\\n",
       "22                              1041                                 33   \n",
       "27                                 4                                 60   \n",
       "28                                13                                 43   \n",
       "\n",
       "    public_administration_and_safety  transport_postal_and_warehousing  \n",
       "22                                 3                                81  \n",
       "27                                 0                                19  \n",
       "28                                 3                                28  "
      ]
     },
     "execution_count": 3,
     "metadata": {},
     "output_type": "execute_result"
    }
   ],
   "source": [
    "BusinessStats = pd.read_csv(\"BusinessStats.csv\")\n",
    "BusinessStats = BusinessStats.dropna()\n",
    "BusinessStats = BusinessStats.drop_duplicates()\n",
    "\n",
    "BusinessStats[\"area_id\"] = BusinessStats[\"area_id\"].apply(lambda x: str(x))\n",
    "BusinessStats = BusinessStats[BusinessStats[\"area_id\"].isin(neighbour_area)] # only cotain regions in neighbourhoods\n",
    "\n",
    "BusinessStats.head(3)"
   ]
  },
  {
   "cell_type": "markdown",
   "id": "b64eede8",
   "metadata": {},
   "source": [
    "### Walking Count Sites"
   ]
  },
  {
   "cell_type": "code",
   "execution_count": 4,
   "id": "3996a0e0",
   "metadata": {
    "scrolled": true
   },
   "outputs": [
    {
     "data": {
      "text/html": [
       "<div>\n",
       "<style scoped>\n",
       "    .dataframe tbody tr th:only-of-type {\n",
       "        vertical-align: middle;\n",
       "    }\n",
       "\n",
       "    .dataframe tbody tr th {\n",
       "        vertical-align: top;\n",
       "    }\n",
       "\n",
       "    .dataframe thead th {\n",
       "        text-align: right;\n",
       "    }\n",
       "</style>\n",
       "<table border=\"1\" class=\"dataframe\">\n",
       "  <thead>\n",
       "    <tr style=\"text-align: right;\">\n",
       "      <th></th>\n",
       "      <th>site_id</th>\n",
       "      <th>geom</th>\n",
       "    </tr>\n",
       "  </thead>\n",
       "  <tbody>\n",
       "    <tr>\n",
       "      <th>0</th>\n",
       "      <td>2</td>\n",
       "      <td>POINT (151.20286600009 -33.9073219995779)</td>\n",
       "    </tr>\n",
       "    <tr>\n",
       "      <th>1</th>\n",
       "      <td>3</td>\n",
       "      <td>POINT (151.177947185903 -33.8993387264436)</td>\n",
       "    </tr>\n",
       "    <tr>\n",
       "      <th>2</th>\n",
       "      <td>4</td>\n",
       "      <td>POINT (151.2166614819 -33.874375432462)</td>\n",
       "    </tr>\n",
       "  </tbody>\n",
       "</table>\n",
       "</div>"
      ],
      "text/plain": [
       "   site_id                                        geom\n",
       "0        2   POINT (151.20286600009 -33.9073219995779)\n",
       "1        3  POINT (151.177947185903 -33.8993387264436)\n",
       "2        4     POINT (151.2166614819 -33.874375432462)"
      ]
     },
     "execution_count": 4,
     "metadata": {},
     "output_type": "execute_result"
    }
   ],
   "source": [
    "site = gpd.read_file(\"Walking_count_sites.geojson\")\n",
    "site = site.drop_duplicates()\n",
    "site.columns= site.columns.str.lower() # lowercase all column names\n",
    "site = site[[\"site_id\", \"geometry\"]]\n",
    "\n",
    "siteog = site.copy()  # creating a copy of the original for later\n",
    "site['geom'] = site['geometry'].apply(lambda x: WKTElement(x.wkt, srid=srid))\n",
    "site = site.drop(columns=\"geometry\")  # deleting the old copy\n",
    "\n",
    "site.head(3)\n"
   ]
  },
  {
   "cell_type": "markdown",
   "id": "8f0d7e94",
   "metadata": {},
   "source": [
    "### Walking Count Records"
   ]
  },
  {
   "cell_type": "code",
   "execution_count": 5,
   "id": "93002501",
   "metadata": {},
   "outputs": [
    {
     "data": {
      "text/html": [
       "<div>\n",
       "<style scoped>\n",
       "    .dataframe tbody tr th:only-of-type {\n",
       "        vertical-align: middle;\n",
       "    }\n",
       "\n",
       "    .dataframe tbody tr th {\n",
       "        vertical-align: top;\n",
       "    }\n",
       "\n",
       "    .dataframe thead th {\n",
       "        text-align: right;\n",
       "    }\n",
       "</style>\n",
       "<table border=\"1\" class=\"dataframe\">\n",
       "  <thead>\n",
       "    <tr style=\"text-align: right;\">\n",
       "      <th></th>\n",
       "      <th>site_id</th>\n",
       "      <th>totalcount</th>\n",
       "    </tr>\n",
       "  </thead>\n",
       "  <tbody>\n",
       "    <tr>\n",
       "      <th>2766</th>\n",
       "      <td>2</td>\n",
       "      <td>2346</td>\n",
       "    </tr>\n",
       "    <tr>\n",
       "      <th>2767</th>\n",
       "      <td>2</td>\n",
       "      <td>3204</td>\n",
       "    </tr>\n",
       "    <tr>\n",
       "      <th>2768</th>\n",
       "      <td>3</td>\n",
       "      <td>12126</td>\n",
       "    </tr>\n",
       "  </tbody>\n",
       "</table>\n",
       "</div>"
      ],
      "text/plain": [
       "      site_id  totalcount\n",
       "2766        2        2346\n",
       "2767        2        3204\n",
       "2768        3       12126"
      ]
     },
     "execution_count": 5,
     "metadata": {},
     "output_type": "execute_result"
    }
   ],
   "source": [
    "record = pd.read_csv(\"Walking_count_surveys.csv\")\n",
    "record.columns= record.columns.str.lower() # lowercase all column names\n",
    "record = record.rename(columns = {\"siteid\": \"site_id\"})\n",
    "record = record[record[\"year\"] == 2021]\n",
    "record = record[[\"site_id\", \"totalcount\"]] # select columns\n",
    "# record = record.groupby([\"site_id\"]).mean()\n",
    "record = record.drop_duplicates()\n",
    "recordog = record.copy()\n",
    "record.head(3)"
   ]
  },
  {
   "cell_type": "markdown",
   "id": "7d28ccdc",
   "metadata": {},
   "source": [
    "### Parking meters"
   ]
  },
  {
   "cell_type": "code",
   "execution_count": 6,
   "id": "7aff2400",
   "metadata": {},
   "outputs": [
    {
     "data": {
      "text/html": [
       "<div>\n",
       "<style scoped>\n",
       "    .dataframe tbody tr th:only-of-type {\n",
       "        vertical-align: middle;\n",
       "    }\n",
       "\n",
       "    .dataframe tbody tr th {\n",
       "        vertical-align: top;\n",
       "    }\n",
       "\n",
       "    .dataframe thead th {\n",
       "        text-align: right;\n",
       "    }\n",
       "</style>\n",
       "<table border=\"1\" class=\"dataframe\">\n",
       "  <thead>\n",
       "    <tr style=\"text-align: right;\">\n",
       "      <th></th>\n",
       "      <th>parkingspaces</th>\n",
       "      <th>geom</th>\n",
       "    </tr>\n",
       "  </thead>\n",
       "  <tbody>\n",
       "    <tr>\n",
       "      <th>0</th>\n",
       "      <td>3</td>\n",
       "      <td>POINT (151.20674336712963 -33.86500973648068)</td>\n",
       "    </tr>\n",
       "    <tr>\n",
       "      <th>1</th>\n",
       "      <td>5</td>\n",
       "      <td>POINT (151.2028888685286 -33.892705794839934)</td>\n",
       "    </tr>\n",
       "    <tr>\n",
       "      <th>2</th>\n",
       "      <td>2</td>\n",
       "      <td>POINT (151.206094487671 -33.86711818106422)</td>\n",
       "    </tr>\n",
       "  </tbody>\n",
       "</table>\n",
       "</div>"
      ],
      "text/plain": [
       "   parkingspaces                                           geom\n",
       "0              3  POINT (151.20674336712963 -33.86500973648068)\n",
       "1              5  POINT (151.2028888685286 -33.892705794839934)\n",
       "2              2    POINT (151.206094487671 -33.86711818106422)"
      ]
     },
     "execution_count": 6,
     "metadata": {},
     "output_type": "execute_result"
    }
   ],
   "source": [
    "Parking_meters = gpd.read_file(\"Parking_meters.geojson\")\n",
    "Parking_meters = Parking_meters.dropna()\n",
    "Parking_meters = Parking_meters.drop_duplicates()\n",
    "Parking_meters = Parking_meters[['ApproxPaySpaces', 'geometry']] # select columns\n",
    "Parking_meters = Parking_meters.rename(columns = {\"ApproxPaySpaces\" : \"parkingspaces\"})\n",
    "\n",
    "Parking_metersog = Parking_meters.copy()  # creating a copy of the original for later\n",
    "Parking_meters['geom'] = Parking_meters['geometry'].apply(lambda x: WKTElement(x.wkt, srid=srid))\n",
    "Parking_meters = Parking_meters.drop(columns=\"geometry\")  # deleting the old copy\n",
    "Parking_meters.head(3)"
   ]
  },
  {
   "cell_type": "markdown",
   "id": "e00751ad",
   "metadata": {},
   "source": [
    "### SA2_2016_AUST"
   ]
  },
  {
   "cell_type": "code",
   "execution_count": 7,
   "id": "463de50b",
   "metadata": {
    "scrolled": true
   },
   "outputs": [
    {
     "data": {
      "text/html": [
       "<div>\n",
       "<style scoped>\n",
       "    .dataframe tbody tr th:only-of-type {\n",
       "        vertical-align: middle;\n",
       "    }\n",
       "\n",
       "    .dataframe tbody tr th {\n",
       "        vertical-align: top;\n",
       "    }\n",
       "\n",
       "    .dataframe thead th {\n",
       "        text-align: right;\n",
       "    }\n",
       "</style>\n",
       "<table border=\"1\" class=\"dataframe\">\n",
       "  <thead>\n",
       "    <tr style=\"text-align: right;\">\n",
       "      <th></th>\n",
       "      <th>sa2_main16</th>\n",
       "      <th>sa2_5dig16</th>\n",
       "      <th>sa2_name16</th>\n",
       "      <th>sa3_code16</th>\n",
       "      <th>sa3_name16</th>\n",
       "      <th>sa4_code16</th>\n",
       "      <th>sa4_name16</th>\n",
       "      <th>gcc_code16</th>\n",
       "      <th>gcc_name16</th>\n",
       "      <th>ste_code16</th>\n",
       "      <th>ste_name16</th>\n",
       "      <th>areasqkm16</th>\n",
       "      <th>geom</th>\n",
       "    </tr>\n",
       "  </thead>\n",
       "  <tbody>\n",
       "    <tr>\n",
       "      <th>22</th>\n",
       "      <td>101051540</td>\n",
       "      <td>11540</td>\n",
       "      <td>Goulburn Region</td>\n",
       "      <td>10105</td>\n",
       "      <td>Goulburn - Mulwaree</td>\n",
       "      <td>101</td>\n",
       "      <td>Capital Region</td>\n",
       "      <td>1RNSW</td>\n",
       "      <td>Rest of NSW</td>\n",
       "      <td>1</td>\n",
       "      <td>New South Wales</td>\n",
       "      <td>9035.1221</td>\n",
       "      <td>MULTIPOLYGON (((149.09631183700003 -34.4189438...</td>\n",
       "    </tr>\n",
       "    <tr>\n",
       "      <th>27</th>\n",
       "      <td>102011028</td>\n",
       "      <td>11028</td>\n",
       "      <td>Avoca Beach - Copacabana</td>\n",
       "      <td>10201</td>\n",
       "      <td>Gosford</td>\n",
       "      <td>102</td>\n",
       "      <td>Central Coast</td>\n",
       "      <td>1GSYD</td>\n",
       "      <td>Greater Sydney</td>\n",
       "      <td>1</td>\n",
       "      <td>New South Wales</td>\n",
       "      <td>6.4376</td>\n",
       "      <td>MULTIPOLYGON (((151.4137275700001 -33.46559324...</td>\n",
       "    </tr>\n",
       "    <tr>\n",
       "      <th>28</th>\n",
       "      <td>102011029</td>\n",
       "      <td>11029</td>\n",
       "      <td>Box Head - MacMasters Beach</td>\n",
       "      <td>10201</td>\n",
       "      <td>Gosford</td>\n",
       "      <td>102</td>\n",
       "      <td>Central Coast</td>\n",
       "      <td>1GSYD</td>\n",
       "      <td>Greater Sydney</td>\n",
       "      <td>1</td>\n",
       "      <td>New South Wales</td>\n",
       "      <td>32.0860</td>\n",
       "      <td>MULTIPOLYGON (((151.3539836770001 -33.49854010...</td>\n",
       "    </tr>\n",
       "  </tbody>\n",
       "</table>\n",
       "</div>"
      ],
      "text/plain": [
       "   sa2_main16 sa2_5dig16                   sa2_name16 sa3_code16  \\\n",
       "22  101051540      11540              Goulburn Region      10105   \n",
       "27  102011028      11028     Avoca Beach - Copacabana      10201   \n",
       "28  102011029      11029  Box Head - MacMasters Beach      10201   \n",
       "\n",
       "             sa3_name16 sa4_code16      sa4_name16 gcc_code16      gcc_name16  \\\n",
       "22  Goulburn - Mulwaree        101  Capital Region      1RNSW     Rest of NSW   \n",
       "27              Gosford        102   Central Coast      1GSYD  Greater Sydney   \n",
       "28              Gosford        102   Central Coast      1GSYD  Greater Sydney   \n",
       "\n",
       "   ste_code16       ste_name16  areasqkm16  \\\n",
       "22          1  New South Wales   9035.1221   \n",
       "27          1  New South Wales      6.4376   \n",
       "28          1  New South Wales     32.0860   \n",
       "\n",
       "                                                 geom  \n",
       "22  MULTIPOLYGON (((149.09631183700003 -34.4189438...  \n",
       "27  MULTIPOLYGON (((151.4137275700001 -33.46559324...  \n",
       "28  MULTIPOLYGON (((151.3539836770001 -33.49854010...  "
      ]
     },
     "execution_count": 7,
     "metadata": {},
     "output_type": "execute_result"
    }
   ],
   "source": [
    "sa2 = gpd.read_file(\"SA2_2016_AUST/SA2_2016_AUST.shp\")\n",
    "\n",
    "sydney_shape = sa2[sa2[\"SA3_NAME16\"] == \"Sydney Inner City\"]\n",
    "gsyd_shape = sa2[sa2[\"SA2_MAIN16\"].isin(neighbour_area)] # only cotain regions in neighbourhoods\n",
    "gsyd_shape.columns= gsyd_shape.columns.str.lower() # lowercase all column names\n",
    "gsyd_shape = gsyd_shape.drop_duplicates()\n",
    "gsyd_shape = gsyd_shape.dropna()\n",
    "\n",
    "gsyd_shapeog = gsyd_shape.copy()  # creating a copy of the original for later\n",
    "gsyd_shape['geom'] = gsyd_shape['geometry'].apply(lambda x: create_wkt_element(geom=x,srid=srid))  # applying the function\n",
    "gsyd_shape = gsyd_shape.drop(columns=\"geometry\")  # deleting the old copy\n",
    "\n",
    "gsyd_shape.head(3)"
   ]
  },
  {
   "cell_type": "markdown",
   "id": "c8e7759e",
   "metadata": {},
   "source": [
    "### break_and_enter"
   ]
  },
  {
   "cell_type": "code",
   "execution_count": 8,
   "id": "6435faf7",
   "metadata": {
    "scrolled": true
   },
   "outputs": [
    {
     "data": {
      "text/html": [
       "<div>\n",
       "<style scoped>\n",
       "    .dataframe tbody tr th:only-of-type {\n",
       "        vertical-align: middle;\n",
       "    }\n",
       "\n",
       "    .dataframe tbody tr th {\n",
       "        vertical-align: top;\n",
       "    }\n",
       "\n",
       "    .dataframe thead th {\n",
       "        text-align: right;\n",
       "    }\n",
       "</style>\n",
       "<table border=\"1\" class=\"dataframe\">\n",
       "  <thead>\n",
       "    <tr style=\"text-align: right;\">\n",
       "      <th></th>\n",
       "      <th>objectid</th>\n",
       "      <th>density</th>\n",
       "      <th>shape_leng</th>\n",
       "      <th>shape_area</th>\n",
       "      <th>geom</th>\n",
       "    </tr>\n",
       "  </thead>\n",
       "  <tbody>\n",
       "    <tr>\n",
       "      <th>0</th>\n",
       "      <td>1</td>\n",
       "      <td>Low Density</td>\n",
       "      <td>0.012138</td>\n",
       "      <td>0.000006</td>\n",
       "      <td>MULTIPOLYGON (((149.91078014700008 -37.0663631...</td>\n",
       "    </tr>\n",
       "    <tr>\n",
       "      <th>1</th>\n",
       "      <td>2</td>\n",
       "      <td>Low Density</td>\n",
       "      <td>0.019106</td>\n",
       "      <td>0.000015</td>\n",
       "      <td>MULTIPOLYGON (((149.9060088220001 -37.05836717...</td>\n",
       "    </tr>\n",
       "    <tr>\n",
       "      <th>2</th>\n",
       "      <td>3</td>\n",
       "      <td>Low Density</td>\n",
       "      <td>0.006068</td>\n",
       "      <td>0.000002</td>\n",
       "      <td>MULTIPOLYGON (((148.94249939000008 -37.0420853...</td>\n",
       "    </tr>\n",
       "  </tbody>\n",
       "</table>\n",
       "</div>"
      ],
      "text/plain": [
       "   objectid      density  shape_leng  shape_area  \\\n",
       "0         1  Low Density    0.012138    0.000006   \n",
       "1         2  Low Density    0.019106    0.000015   \n",
       "2         3  Low Density    0.006068    0.000002   \n",
       "\n",
       "                                                geom  \n",
       "0  MULTIPOLYGON (((149.91078014700008 -37.0663631...  \n",
       "1  MULTIPOLYGON (((149.9060088220001 -37.05836717...  \n",
       "2  MULTIPOLYGON (((148.94249939000008 -37.0420853...  "
      ]
     },
     "execution_count": 8,
     "metadata": {},
     "output_type": "execute_result"
    }
   ],
   "source": [
    "break_and_enter = gpd.read_file(\"break_and_enter/BreakEnterDwelling_JanToDec2021.shp\")\n",
    "break_and_enter = break_and_enter.drop_duplicates()\n",
    "break_and_enter = break_and_enter.dropna()\n",
    "break_and_enter.columns= break_and_enter.columns.str.lower() # lowercase all column names\n",
    "break_and_enter = break_and_enter.drop(columns={'contour', 'orig_fid'}) # drop irrelative cols\n",
    "\n",
    "break_and_enterog = break_and_enter.copy()  # creating a copy of the original for later\n",
    "break_and_enter['geom'] = break_and_enter['geometry'].apply(lambda x: create_wkt_element(geom=x,srid=srid))  # applying the function\n",
    "break_and_enter = break_and_enter.drop(columns=\"geometry\")  # deleting the old copy\n",
    "\n",
    "break_and_enter.head(3)"
   ]
  },
  {
   "cell_type": "markdown",
   "id": "a53e1e68",
   "metadata": {},
   "source": [
    "### school_catchments"
   ]
  },
  {
   "cell_type": "markdown",
   "id": "e02e5f45",
   "metadata": {},
   "source": [
    "future, school_catchments"
   ]
  },
  {
   "cell_type": "code",
   "execution_count": 9,
   "id": "a02e6f65",
   "metadata": {
    "scrolled": true
   },
   "outputs": [
    {
     "data": {
      "text/html": [
       "<div>\n",
       "<style scoped>\n",
       "    .dataframe tbody tr th:only-of-type {\n",
       "        vertical-align: middle;\n",
       "    }\n",
       "\n",
       "    .dataframe tbody tr th {\n",
       "        vertical-align: top;\n",
       "    }\n",
       "\n",
       "    .dataframe thead th {\n",
       "        text-align: right;\n",
       "    }\n",
       "</style>\n",
       "<table border=\"1\" class=\"dataframe\">\n",
       "  <thead>\n",
       "    <tr style=\"text-align: right;\">\n",
       "      <th></th>\n",
       "      <th>USE_ID</th>\n",
       "      <th>CATCH_TYPE</th>\n",
       "      <th>USE_DESC</th>\n",
       "      <th>ADD_DATE</th>\n",
       "      <th>KINDERGART</th>\n",
       "      <th>YEAR1</th>\n",
       "      <th>YEAR2</th>\n",
       "      <th>YEAR3</th>\n",
       "      <th>YEAR4</th>\n",
       "      <th>YEAR5</th>\n",
       "      <th>YEAR6</th>\n",
       "      <th>YEAR7</th>\n",
       "      <th>YEAR8</th>\n",
       "      <th>YEAR9</th>\n",
       "      <th>YEAR10</th>\n",
       "      <th>YEAR11</th>\n",
       "      <th>YEAR12</th>\n",
       "      <th>geom</th>\n",
       "    </tr>\n",
       "  </thead>\n",
       "  <tbody>\n",
       "    <tr>\n",
       "      <th>0</th>\n",
       "      <td>2133</td>\n",
       "      <td>PRIMARY</td>\n",
       "      <td>Harbord PS</td>\n",
       "      <td>20200720</td>\n",
       "      <td>2023</td>\n",
       "      <td>2023</td>\n",
       "      <td>2023</td>\n",
       "      <td>2023</td>\n",
       "      <td>2023</td>\n",
       "      <td>2023</td>\n",
       "      <td>2023</td>\n",
       "      <td>0</td>\n",
       "      <td>0</td>\n",
       "      <td>0</td>\n",
       "      <td>0</td>\n",
       "      <td>0</td>\n",
       "      <td>0</td>\n",
       "      <td>MULTIPOLYGON (((151.29768576390327 -33.7683218...</td>\n",
       "    </tr>\n",
       "    <tr>\n",
       "      <th>1</th>\n",
       "      <td>4450</td>\n",
       "      <td>PRIMARY</td>\n",
       "      <td>Berinba PS</td>\n",
       "      <td>20220110</td>\n",
       "      <td>2023</td>\n",
       "      <td>2023</td>\n",
       "      <td>2023</td>\n",
       "      <td>2023</td>\n",
       "      <td>2023</td>\n",
       "      <td>2023</td>\n",
       "      <td>2023</td>\n",
       "      <td>0</td>\n",
       "      <td>0</td>\n",
       "      <td>0</td>\n",
       "      <td>0</td>\n",
       "      <td>0</td>\n",
       "      <td>0</td>\n",
       "      <td>MULTIPOLYGON (((149.10301282737197 -34.8212654...</td>\n",
       "    </tr>\n",
       "    <tr>\n",
       "      <th>2</th>\n",
       "      <td>4683</td>\n",
       "      <td>PRIMARY</td>\n",
       "      <td>Murrumbateman PS</td>\n",
       "      <td>20220110</td>\n",
       "      <td>2023</td>\n",
       "      <td>2023</td>\n",
       "      <td>2023</td>\n",
       "      <td>2023</td>\n",
       "      <td>2023</td>\n",
       "      <td>2023</td>\n",
       "      <td>2023</td>\n",
       "      <td>0</td>\n",
       "      <td>0</td>\n",
       "      <td>0</td>\n",
       "      <td>0</td>\n",
       "      <td>0</td>\n",
       "      <td>0</td>\n",
       "      <td>MULTIPOLYGON (((149.10556911272894 -34.8952307...</td>\n",
       "    </tr>\n",
       "  </tbody>\n",
       "</table>\n",
       "</div>"
      ],
      "text/plain": [
       "  USE_ID CATCH_TYPE          USE_DESC  ADD_DATE  KINDERGART  YEAR1  YEAR2  \\\n",
       "0   2133    PRIMARY        Harbord PS  20200720        2023   2023   2023   \n",
       "1   4450    PRIMARY        Berinba PS  20220110        2023   2023   2023   \n",
       "2   4683    PRIMARY  Murrumbateman PS  20220110        2023   2023   2023   \n",
       "\n",
       "   YEAR3  YEAR4  YEAR5  YEAR6  YEAR7  YEAR8  YEAR9  YEAR10  YEAR11  YEAR12  \\\n",
       "0   2023   2023   2023   2023      0      0      0       0       0       0   \n",
       "1   2023   2023   2023   2023      0      0      0       0       0       0   \n",
       "2   2023   2023   2023   2023      0      0      0       0       0       0   \n",
       "\n",
       "                                                geom  \n",
       "0  MULTIPOLYGON (((151.29768576390327 -33.7683218...  \n",
       "1  MULTIPOLYGON (((149.10301282737197 -34.8212654...  \n",
       "2  MULTIPOLYGON (((149.10556911272894 -34.8952307...  "
      ]
     },
     "execution_count": 9,
     "metadata": {},
     "output_type": "execute_result"
    }
   ],
   "source": [
    "catchments_future = gpd.read_file(\"school_catchments/catchments_future.shp\")\n",
    "\n",
    "catchments_futureog = catchments_future.copy()  # creating a copy of the original for later\n",
    "catchments_future['geom'] = catchments_future['geometry'].apply(lambda x: create_wkt_element(geom=x,srid=srid))  # applying the function\n",
    "catchments_future = catchments_future.drop(columns=\"geometry\")  # deleting the old copy\n",
    "\n",
    "catchments_future.head(3)"
   ]
  },
  {
   "cell_type": "markdown",
   "id": "9592fb67",
   "metadata": {},
   "source": [
    "primary, school_catchments"
   ]
  },
  {
   "cell_type": "code",
   "execution_count": 10,
   "id": "8d10fa06",
   "metadata": {
    "scrolled": true
   },
   "outputs": [
    {
     "data": {
      "text/html": [
       "<div>\n",
       "<style scoped>\n",
       "    .dataframe tbody tr th:only-of-type {\n",
       "        vertical-align: middle;\n",
       "    }\n",
       "\n",
       "    .dataframe tbody tr th {\n",
       "        vertical-align: top;\n",
       "    }\n",
       "\n",
       "    .dataframe thead th {\n",
       "        text-align: right;\n",
       "    }\n",
       "</style>\n",
       "<table border=\"1\" class=\"dataframe\">\n",
       "  <thead>\n",
       "    <tr style=\"text-align: right;\">\n",
       "      <th></th>\n",
       "      <th>USE_ID</th>\n",
       "      <th>CATCH_TYPE</th>\n",
       "      <th>USE_DESC</th>\n",
       "      <th>ADD_DATE</th>\n",
       "      <th>KINDERGART</th>\n",
       "      <th>YEAR1</th>\n",
       "      <th>YEAR2</th>\n",
       "      <th>YEAR3</th>\n",
       "      <th>YEAR4</th>\n",
       "      <th>YEAR5</th>\n",
       "      <th>YEAR6</th>\n",
       "      <th>YEAR7</th>\n",
       "      <th>YEAR8</th>\n",
       "      <th>YEAR9</th>\n",
       "      <th>YEAR10</th>\n",
       "      <th>YEAR11</th>\n",
       "      <th>YEAR12</th>\n",
       "      <th>PRIORITY</th>\n",
       "      <th>geom</th>\n",
       "    </tr>\n",
       "  </thead>\n",
       "  <tbody>\n",
       "    <tr>\n",
       "      <th>0</th>\n",
       "      <td>2838</td>\n",
       "      <td>PRIMARY</td>\n",
       "      <td>Parklea PS</td>\n",
       "      <td>20181210</td>\n",
       "      <td>Y</td>\n",
       "      <td>Y</td>\n",
       "      <td>Y</td>\n",
       "      <td>Y</td>\n",
       "      <td>Y</td>\n",
       "      <td>Y</td>\n",
       "      <td>Y</td>\n",
       "      <td>N</td>\n",
       "      <td>N</td>\n",
       "      <td>N</td>\n",
       "      <td>N</td>\n",
       "      <td>N</td>\n",
       "      <td>N</td>\n",
       "      <td>None</td>\n",
       "      <td>MULTIPOLYGON (((150.93563850416004 -33.7161211...</td>\n",
       "    </tr>\n",
       "    <tr>\n",
       "      <th>1</th>\n",
       "      <td>3943</td>\n",
       "      <td>PRIMARY</td>\n",
       "      <td>Gordon WPS</td>\n",
       "      <td>20211219</td>\n",
       "      <td>Y</td>\n",
       "      <td>Y</td>\n",
       "      <td>Y</td>\n",
       "      <td>Y</td>\n",
       "      <td>Y</td>\n",
       "      <td>Y</td>\n",
       "      <td>Y</td>\n",
       "      <td>N</td>\n",
       "      <td>N</td>\n",
       "      <td>N</td>\n",
       "      <td>N</td>\n",
       "      <td>N</td>\n",
       "      <td>N</td>\n",
       "      <td>None</td>\n",
       "      <td>MULTIPOLYGON (((151.14085043012102 -33.7446267...</td>\n",
       "    </tr>\n",
       "    <tr>\n",
       "      <th>2</th>\n",
       "      <td>2404</td>\n",
       "      <td>PRIMARY</td>\n",
       "      <td>Lindfield EPS</td>\n",
       "      <td>20211219</td>\n",
       "      <td>Y</td>\n",
       "      <td>Y</td>\n",
       "      <td>Y</td>\n",
       "      <td>Y</td>\n",
       "      <td>Y</td>\n",
       "      <td>Y</td>\n",
       "      <td>Y</td>\n",
       "      <td>N</td>\n",
       "      <td>N</td>\n",
       "      <td>N</td>\n",
       "      <td>N</td>\n",
       "      <td>N</td>\n",
       "      <td>N</td>\n",
       "      <td>None</td>\n",
       "      <td>MULTIPOLYGON (((151.1833640465581 -33.74748398...</td>\n",
       "    </tr>\n",
       "  </tbody>\n",
       "</table>\n",
       "</div>"
      ],
      "text/plain": [
       "  USE_ID CATCH_TYPE       USE_DESC  ADD_DATE KINDERGART YEAR1 YEAR2 YEAR3  \\\n",
       "0   2838    PRIMARY     Parklea PS  20181210          Y     Y     Y     Y   \n",
       "1   3943    PRIMARY     Gordon WPS  20211219          Y     Y     Y     Y   \n",
       "2   2404    PRIMARY  Lindfield EPS  20211219          Y     Y     Y     Y   \n",
       "\n",
       "  YEAR4 YEAR5 YEAR6 YEAR7 YEAR8 YEAR9 YEAR10 YEAR11 YEAR12 PRIORITY  \\\n",
       "0     Y     Y     Y     N     N     N      N      N      N     None   \n",
       "1     Y     Y     Y     N     N     N      N      N      N     None   \n",
       "2     Y     Y     Y     N     N     N      N      N      N     None   \n",
       "\n",
       "                                                geom  \n",
       "0  MULTIPOLYGON (((150.93563850416004 -33.7161211...  \n",
       "1  MULTIPOLYGON (((151.14085043012102 -33.7446267...  \n",
       "2  MULTIPOLYGON (((151.1833640465581 -33.74748398...  "
      ]
     },
     "execution_count": 10,
     "metadata": {},
     "output_type": "execute_result"
    }
   ],
   "source": [
    "catchments_primary = gpd.read_file(\"school_catchments/catchments_primary.shp\")\n",
    "\n",
    "catchments_primaryog = catchments_primary.copy()  # creating a copy of the original for later\n",
    "catchments_primary['geom'] = catchments_primary['geometry'].apply(lambda x: create_wkt_element(geom=x,srid=srid))  # applying the function\n",
    "catchments_primary = catchments_primary.drop(columns=\"geometry\")  # deleting the old copy\n",
    "catchments_primary.head(3)"
   ]
  },
  {
   "cell_type": "markdown",
   "id": "15c43b34",
   "metadata": {},
   "source": [
    "secondary, school_catchments"
   ]
  },
  {
   "cell_type": "code",
   "execution_count": 11,
   "id": "d499bef6",
   "metadata": {
    "scrolled": true
   },
   "outputs": [
    {
     "data": {
      "text/html": [
       "<div>\n",
       "<style scoped>\n",
       "    .dataframe tbody tr th:only-of-type {\n",
       "        vertical-align: middle;\n",
       "    }\n",
       "\n",
       "    .dataframe tbody tr th {\n",
       "        vertical-align: top;\n",
       "    }\n",
       "\n",
       "    .dataframe thead th {\n",
       "        text-align: right;\n",
       "    }\n",
       "</style>\n",
       "<table border=\"1\" class=\"dataframe\">\n",
       "  <thead>\n",
       "    <tr style=\"text-align: right;\">\n",
       "      <th></th>\n",
       "      <th>USE_ID</th>\n",
       "      <th>CATCH_TYPE</th>\n",
       "      <th>USE_DESC</th>\n",
       "      <th>ADD_DATE</th>\n",
       "      <th>KINDERGART</th>\n",
       "      <th>YEAR1</th>\n",
       "      <th>YEAR2</th>\n",
       "      <th>YEAR3</th>\n",
       "      <th>YEAR4</th>\n",
       "      <th>YEAR5</th>\n",
       "      <th>YEAR6</th>\n",
       "      <th>YEAR7</th>\n",
       "      <th>YEAR8</th>\n",
       "      <th>YEAR9</th>\n",
       "      <th>YEAR10</th>\n",
       "      <th>YEAR11</th>\n",
       "      <th>YEAR12</th>\n",
       "      <th>PRIORITY</th>\n",
       "      <th>geom</th>\n",
       "    </tr>\n",
       "  </thead>\n",
       "  <tbody>\n",
       "    <tr>\n",
       "      <th>0</th>\n",
       "      <td>8503</td>\n",
       "      <td>HIGH_COED</td>\n",
       "      <td>Billabong HS</td>\n",
       "      <td>20200507</td>\n",
       "      <td>N</td>\n",
       "      <td>N</td>\n",
       "      <td>N</td>\n",
       "      <td>N</td>\n",
       "      <td>N</td>\n",
       "      <td>N</td>\n",
       "      <td>N</td>\n",
       "      <td>Y</td>\n",
       "      <td>Y</td>\n",
       "      <td>Y</td>\n",
       "      <td>Y</td>\n",
       "      <td>Y</td>\n",
       "      <td>Y</td>\n",
       "      <td>None</td>\n",
       "      <td>MULTIPOLYGON (((146.67182402032344 -35.3144375...</td>\n",
       "    </tr>\n",
       "    <tr>\n",
       "      <th>1</th>\n",
       "      <td>8266</td>\n",
       "      <td>HIGH_COED</td>\n",
       "      <td>James Fallon HS</td>\n",
       "      <td>20200507</td>\n",
       "      <td>N</td>\n",
       "      <td>N</td>\n",
       "      <td>N</td>\n",
       "      <td>N</td>\n",
       "      <td>N</td>\n",
       "      <td>N</td>\n",
       "      <td>N</td>\n",
       "      <td>Y</td>\n",
       "      <td>Y</td>\n",
       "      <td>Y</td>\n",
       "      <td>Y</td>\n",
       "      <td>Y</td>\n",
       "      <td>Y</td>\n",
       "      <td>None</td>\n",
       "      <td>MULTIPOLYGON (((147.08733806259178 -35.8627146...</td>\n",
       "    </tr>\n",
       "    <tr>\n",
       "      <th>2</th>\n",
       "      <td>8505</td>\n",
       "      <td>HIGH_COED</td>\n",
       "      <td>Murray HS</td>\n",
       "      <td>20200507</td>\n",
       "      <td>N</td>\n",
       "      <td>N</td>\n",
       "      <td>N</td>\n",
       "      <td>N</td>\n",
       "      <td>N</td>\n",
       "      <td>N</td>\n",
       "      <td>N</td>\n",
       "      <td>Y</td>\n",
       "      <td>Y</td>\n",
       "      <td>Y</td>\n",
       "      <td>Y</td>\n",
       "      <td>Y</td>\n",
       "      <td>Y</td>\n",
       "      <td>None</td>\n",
       "      <td>MULTIPOLYGON (((146.81447829547324 -35.7834062...</td>\n",
       "    </tr>\n",
       "  </tbody>\n",
       "</table>\n",
       "</div>"
      ],
      "text/plain": [
       "  USE_ID CATCH_TYPE         USE_DESC  ADD_DATE KINDERGART YEAR1 YEAR2 YEAR3  \\\n",
       "0   8503  HIGH_COED     Billabong HS  20200507          N     N     N     N   \n",
       "1   8266  HIGH_COED  James Fallon HS  20200507          N     N     N     N   \n",
       "2   8505  HIGH_COED        Murray HS  20200507          N     N     N     N   \n",
       "\n",
       "  YEAR4 YEAR5 YEAR6 YEAR7 YEAR8 YEAR9 YEAR10 YEAR11 YEAR12 PRIORITY  \\\n",
       "0     N     N     N     Y     Y     Y      Y      Y      Y     None   \n",
       "1     N     N     N     Y     Y     Y      Y      Y      Y     None   \n",
       "2     N     N     N     Y     Y     Y      Y      Y      Y     None   \n",
       "\n",
       "                                                geom  \n",
       "0  MULTIPOLYGON (((146.67182402032344 -35.3144375...  \n",
       "1  MULTIPOLYGON (((147.08733806259178 -35.8627146...  \n",
       "2  MULTIPOLYGON (((146.81447829547324 -35.7834062...  "
      ]
     },
     "execution_count": 11,
     "metadata": {},
     "output_type": "execute_result"
    }
   ],
   "source": [
    "catchments_secondary = gpd.read_file(\"school_catchments/catchments_secondary.shp\")\n",
    "\n",
    "catchments_secondaryog = catchments_secondary.copy()  # creating a copy of the original for later\n",
    "catchments_secondary['geom'] = catchments_secondary['geometry'].apply(lambda x: create_wkt_element(geom=x,srid=srid))  # applying the function\n",
    "catchments_secondary = catchments_secondary.drop(columns=\"geometry\")  # deleting the old copy\n",
    "\n",
    "catchments_secondary.head(3)"
   ]
  },
  {
   "cell_type": "markdown",
   "id": "5ecf74d0",
   "metadata": {},
   "source": [
    "#### merge 3 dataFrames"
   ]
  },
  {
   "cell_type": "code",
   "execution_count": 12,
   "id": "97b815d6",
   "metadata": {
    "scrolled": false
   },
   "outputs": [
    {
     "data": {
      "text/html": [
       "<div>\n",
       "<style scoped>\n",
       "    .dataframe tbody tr th:only-of-type {\n",
       "        vertical-align: middle;\n",
       "    }\n",
       "\n",
       "    .dataframe tbody tr th {\n",
       "        vertical-align: top;\n",
       "    }\n",
       "\n",
       "    .dataframe thead th {\n",
       "        text-align: right;\n",
       "    }\n",
       "</style>\n",
       "<table border=\"1\" class=\"dataframe\">\n",
       "  <thead>\n",
       "    <tr style=\"text-align: right;\">\n",
       "      <th></th>\n",
       "      <th>use_id</th>\n",
       "      <th>catch_type</th>\n",
       "      <th>use_desc</th>\n",
       "      <th>add_date</th>\n",
       "      <th>kindergart</th>\n",
       "      <th>year1</th>\n",
       "      <th>year2</th>\n",
       "      <th>year3</th>\n",
       "      <th>year4</th>\n",
       "      <th>year5</th>\n",
       "      <th>year6</th>\n",
       "      <th>year7</th>\n",
       "      <th>year8</th>\n",
       "      <th>year9</th>\n",
       "      <th>year10</th>\n",
       "      <th>year11</th>\n",
       "      <th>year12</th>\n",
       "      <th>geom</th>\n",
       "      <th>priority</th>\n",
       "    </tr>\n",
       "  </thead>\n",
       "  <tbody>\n",
       "    <tr>\n",
       "      <th>679</th>\n",
       "      <td>4668</td>\n",
       "      <td>PRIMARY</td>\n",
       "      <td>Smalls Rd PS</td>\n",
       "      <td>20201221</td>\n",
       "      <td>Y</td>\n",
       "      <td>Y</td>\n",
       "      <td>Y</td>\n",
       "      <td>Y</td>\n",
       "      <td>Y</td>\n",
       "      <td>Y</td>\n",
       "      <td>Y</td>\n",
       "      <td>N</td>\n",
       "      <td>N</td>\n",
       "      <td>N</td>\n",
       "      <td>N</td>\n",
       "      <td>N</td>\n",
       "      <td>N</td>\n",
       "      <td>MULTIPOLYGON (((151.10587500146278 -33.7910250...</td>\n",
       "      <td>N</td>\n",
       "    </tr>\n",
       "    <tr>\n",
       "      <th>813</th>\n",
       "      <td>5141</td>\n",
       "      <td>PRIMARY</td>\n",
       "      <td>Kyeemagh PS</td>\n",
       "      <td>20211221</td>\n",
       "      <td>Y</td>\n",
       "      <td>Y</td>\n",
       "      <td>Y</td>\n",
       "      <td>Y</td>\n",
       "      <td>Y</td>\n",
       "      <td>Y</td>\n",
       "      <td>Y</td>\n",
       "      <td>N</td>\n",
       "      <td>N</td>\n",
       "      <td>N</td>\n",
       "      <td>N</td>\n",
       "      <td>N</td>\n",
       "      <td>N</td>\n",
       "      <td>MULTIPOLYGON (((151.16177431879754 -33.9453184...</td>\n",
       "      <td>N</td>\n",
       "    </tr>\n",
       "    <tr>\n",
       "      <th>1175</th>\n",
       "      <td>1943</td>\n",
       "      <td>PRIMARY</td>\n",
       "      <td>Frederickton PS</td>\n",
       "      <td>20200405</td>\n",
       "      <td>Y</td>\n",
       "      <td>Y</td>\n",
       "      <td>Y</td>\n",
       "      <td>Y</td>\n",
       "      <td>Y</td>\n",
       "      <td>Y</td>\n",
       "      <td>Y</td>\n",
       "      <td>N</td>\n",
       "      <td>N</td>\n",
       "      <td>N</td>\n",
       "      <td>N</td>\n",
       "      <td>N</td>\n",
       "      <td>N</td>\n",
       "      <td>MULTIPOLYGON (((152.9147772022225 -30.85308878...</td>\n",
       "      <td>N</td>\n",
       "    </tr>\n",
       "  </tbody>\n",
       "</table>\n",
       "</div>"
      ],
      "text/plain": [
       "     use_id catch_type         use_desc  add_date kindergart year1 year2  \\\n",
       "679    4668    PRIMARY     Smalls Rd PS  20201221          Y     Y     Y   \n",
       "813    5141    PRIMARY      Kyeemagh PS  20211221          Y     Y     Y   \n",
       "1175   1943    PRIMARY  Frederickton PS  20200405          Y     Y     Y   \n",
       "\n",
       "     year3 year4 year5 year6 year7 year8 year9 year10 year11 year12  \\\n",
       "679      Y     Y     Y     Y     N     N     N      N      N      N   \n",
       "813      Y     Y     Y     Y     N     N     N      N      N      N   \n",
       "1175     Y     Y     Y     Y     N     N     N      N      N      N   \n",
       "\n",
       "                                                   geom priority  \n",
       "679   MULTIPOLYGON (((151.10587500146278 -33.7910250...        N  \n",
       "813   MULTIPOLYGON (((151.16177431879754 -33.9453184...        N  \n",
       "1175  MULTIPOLYGON (((152.9147772022225 -30.85308878...        N  "
      ]
     },
     "execution_count": 12,
     "metadata": {},
     "output_type": "execute_result"
    }
   ],
   "source": [
    "catchments = [catchments_future, catchments_primary, catchments_secondary]\n",
    "catchments = pd.concat(catchments)\n",
    "\n",
    "catchments.columns= catchments.columns.str.lower() # lowercase all column names\n",
    "catchments = catchments.drop_duplicates()\n",
    "catchments = catchments.dropna()\n",
    "\n",
    "catchments.head(3)"
   ]
  },
  {
   "cell_type": "markdown",
   "id": "d0fe148d",
   "metadata": {},
   "source": [
    "# Connect to database"
   ]
  },
  {
   "cell_type": "code",
   "execution_count": 13,
   "id": "edeb0619",
   "metadata": {},
   "outputs": [],
   "source": [
    "from sqlalchemy import create_engine\n",
    "import psycopg2\n",
    "import psycopg2.extras\n",
    "import json\n",
    "\n",
    "credentials = \"Credentials.json\"\n",
    "\n",
    "def pgconnect(credential_filepath, db_schema=\"public\"):\n",
    "    with open(credential_filepath) as f:\n",
    "        db_conn_dict = json.load(f)\n",
    "        host       = db_conn_dict['host']\n",
    "        db_user    = db_conn_dict['user']\n",
    "        db_pw      = db_conn_dict['password']\n",
    "        default_db = db_conn_dict['user']\n",
    "        try:\n",
    "            db = create_engine('postgresql+psycopg2://'+db_user+':'+db_pw+'@'+host+'/'+default_db, echo=False)\n",
    "            conn = db.connect()\n",
    "            print('Connected successfully.')\n",
    "        except Exception as e:\n",
    "            print(\"Unable to connect to the database.\")\n",
    "            print(e)\n",
    "            db, conn = None, None\n",
    "        return db,conn\n",
    "\n",
    "def query(conn, sqlcmd, args=None, df=True):\n",
    "    result = pd.DataFrame() if df else None\n",
    "    try:\n",
    "        if df:\n",
    "            result = pd.read_sql_query(sqlcmd, conn, params=args)\n",
    "        else:\n",
    "            result = conn.execute(sqlcmd, args).fetchall()\n",
    "            result = result[0] if len(result) == 1 else result\n",
    "    except Exception as e:\n",
    "        print(\"Error encountered: \", e, sep='\\n')\n",
    "    return result"
   ]
  },
  {
   "cell_type": "code",
   "execution_count": 14,
   "id": "997a7dcf",
   "metadata": {},
   "outputs": [
    {
     "name": "stdout",
     "output_type": "stream",
     "text": [
      "Connected successfully.\n"
     ]
    }
   ],
   "source": [
    "db, conn = pgconnect(credentials)"
   ]
  },
  {
   "cell_type": "code",
   "execution_count": 15,
   "id": "65b3948f",
   "metadata": {
    "scrolled": true
   },
   "outputs": [
    {
     "data": {
      "text/html": [
       "<div>\n",
       "<style scoped>\n",
       "    .dataframe tbody tr th:only-of-type {\n",
       "        vertical-align: middle;\n",
       "    }\n",
       "\n",
       "    .dataframe tbody tr th {\n",
       "        vertical-align: top;\n",
       "    }\n",
       "\n",
       "    .dataframe thead th {\n",
       "        text-align: right;\n",
       "    }\n",
       "</style>\n",
       "<table border=\"1\" class=\"dataframe\">\n",
       "  <thead>\n",
       "    <tr style=\"text-align: right;\">\n",
       "      <th></th>\n",
       "      <th>postgis_version</th>\n",
       "    </tr>\n",
       "  </thead>\n",
       "  <tbody>\n",
       "    <tr>\n",
       "      <th>0</th>\n",
       "      <td>3.0 USE_GEOS=1 USE_PROJ=1 USE_STATS=1</td>\n",
       "    </tr>\n",
       "  </tbody>\n",
       "</table>\n",
       "</div>"
      ],
      "text/plain": [
       "                         postgis_version\n",
       "0  3.0 USE_GEOS=1 USE_PROJ=1 USE_STATS=1"
      ]
     },
     "execution_count": 15,
     "metadata": {},
     "output_type": "execute_result"
    }
   ],
   "source": [
    "query(conn, \"select PostGIS_Version()\")"
   ]
  },
  {
   "cell_type": "markdown",
   "id": "b53875de",
   "metadata": {},
   "source": [
    "### import SA_2 data"
   ]
  },
  {
   "cell_type": "code",
   "execution_count": 16,
   "id": "cc1e12f8",
   "metadata": {},
   "outputs": [
    {
     "data": {
      "text/plain": [
       "<sqlalchemy.engine.cursor.LegacyCursorResult at 0x7fd16a2dd3a0>"
      ]
     },
     "execution_count": 16,
     "metadata": {},
     "output_type": "execute_result"
    }
   ],
   "source": [
    "conn.execute(\"\"\"\n",
    "drop table if exists business;\n",
    "drop table if exists neighbourhoods;\n",
    "drop table if exists sa_2;\n",
    "create table sa_2 (\n",
    "    sa2_main16 integer primary key,\n",
    "    sa2_5dig16 integer,\n",
    "    sa2_name16 varchar(100),\n",
    "    sa3_code16 integer,\n",
    "    sa3_name16 varchar(100),\n",
    "    sa4_code16 integer,\n",
    "    sa4_name16 varchar(100),\n",
    "    gcc_code16 varchar(100),\n",
    "    gcc_name16 varchar(100),\n",
    "    ste_code16 integer,\n",
    "    ste_name16 varchar(100),\n",
    "    areasqkm16 float,\n",
    "    geom GEOMETRY(MULTIPOLYGON,4326));\n",
    "    \n",
    "    \"\"\")"
   ]
  },
  {
   "cell_type": "code",
   "execution_count": 17,
   "id": "1d784ca2",
   "metadata": {
    "scrolled": false
   },
   "outputs": [
    {
     "data": {
      "text/plain": [
       "<sqlalchemy.engine.cursor.LegacyCursorResult at 0x7fd16a8a55b0>"
      ]
     },
     "execution_count": 17,
     "metadata": {},
     "output_type": "execute_result"
    }
   ],
   "source": [
    "gsyd_shape.to_sql('sa_2', conn, if_exists='append', index=False, dtype={'geom': Geometry('MULTIPOLYGON', srid)})\n",
    "conn.execute(\"create index main_idx on sa_2 (sa2_main16)\") # create index on pk"
   ]
  },
  {
   "cell_type": "code",
   "execution_count": 18,
   "id": "aeafd2a5",
   "metadata": {},
   "outputs": [
    {
     "name": "stdout",
     "output_type": "stream",
     "text": [
      "sa_2 imported\n"
     ]
    }
   ],
   "source": [
    "query(conn, \"select * from sa_2\")\n",
    "print(\"sa_2 imported\")"
   ]
  },
  {
   "cell_type": "markdown",
   "id": "54557d76",
   "metadata": {},
   "source": [
    "### import break_and_enter data"
   ]
  },
  {
   "cell_type": "code",
   "execution_count": 19,
   "id": "954954cf",
   "metadata": {},
   "outputs": [
    {
     "data": {
      "text/plain": [
       "594"
      ]
     },
     "execution_count": 19,
     "metadata": {},
     "output_type": "execute_result"
    }
   ],
   "source": [
    "conn.execute(\"\"\"\n",
    "drop table if exists break_and_enter;\n",
    "create table break_and_enter (\n",
    "    objectid integer,\n",
    "    density varchar(50),\n",
    "    shape_leng float,\n",
    "    shape_area float,\n",
    "    geom GEOMETRY(MULTIPOLYGON,4326)\n",
    ")\n",
    "\"\"\")\n",
    "break_and_enter.to_sql('break_and_enter', conn, if_exists='append', index=False, dtype={'geom': Geometry('MULTIPOLYGON', srid)})"
   ]
  },
  {
   "cell_type": "code",
   "execution_count": 20,
   "id": "264c76cb",
   "metadata": {},
   "outputs": [
    {
     "name": "stdout",
     "output_type": "stream",
     "text": [
      "break_and_enter imported\n"
     ]
    }
   ],
   "source": [
    "query(conn, \"select * from break_and_enter\")\n",
    "print(\"break_and_enter imported\")"
   ]
  },
  {
   "cell_type": "markdown",
   "id": "8390c7b3",
   "metadata": {},
   "source": [
    "### import school_catchments data"
   ]
  },
  {
   "cell_type": "code",
   "execution_count": 21,
   "id": "a4a72d31",
   "metadata": {},
   "outputs": [
    {
     "data": {
      "text/plain": [
       "8"
      ]
     },
     "execution_count": 21,
     "metadata": {},
     "output_type": "execute_result"
    }
   ],
   "source": [
    "conn.execute(\"\"\"\n",
    "drop table if exists catchments;\n",
    "create table catchments (\n",
    "    use_id integer,\n",
    "    catch_type varchar(100),\n",
    "    use_desc varchar(100),\n",
    "    add_date integer,\n",
    "    kindergart varchar(100),\n",
    "    year1 varchar(100),\n",
    "    year2 varchar(100),\n",
    "    year3 varchar(100),\n",
    "    year4 varchar(100),\n",
    "    year5 varchar(100),\n",
    "    year6 varchar(100),\n",
    "    year7 varchar(100),\n",
    "    year8 varchar(100),\n",
    "    year9 varchar(100),\n",
    "    year10 varchar(100),\n",
    "    year11 varchar(100),\n",
    "    year12 varchar(100),\n",
    "    geom GEOMETRY(MULTIPOLYGON,4326),\n",
    "    priority varchar(100)\n",
    ")\n",
    "\"\"\")\n",
    "catchments.to_sql('catchments', conn, if_exists='append', index=False, dtype={'geom': Geometry('MULTIPOLYGON', srid)})"
   ]
  },
  {
   "cell_type": "code",
   "execution_count": 22,
   "id": "b9003bcf",
   "metadata": {},
   "outputs": [
    {
     "name": "stdout",
     "output_type": "stream",
     "text": [
      "catchments imported\n"
     ]
    }
   ],
   "source": [
    "query(conn, \"select * from catchments\")\n",
    "print(\"catchments imported\")"
   ]
  },
  {
   "cell_type": "markdown",
   "id": "ed2559df",
   "metadata": {},
   "source": [
    "### BusinessStats"
   ]
  },
  {
   "cell_type": "code",
   "execution_count": 23,
   "id": "040e4331",
   "metadata": {},
   "outputs": [
    {
     "data": {
      "text/plain": [
       "309"
      ]
     },
     "execution_count": 23,
     "metadata": {},
     "output_type": "execute_result"
    }
   ],
   "source": [
    "conn.execute(\"\"\"\n",
    "drop table if exists business;\n",
    "create table business (\n",
    "    area_id integer,\n",
    "    area_name varchar(100),\n",
    "    number_of_businesses integer,\n",
    "    accommodation_and_food_services integer,\n",
    "    retail_trade integer,\n",
    "    agriculture_forestry_and_fishing integer,\n",
    "    health_care_and_social_assistance integer,\n",
    "    public_administration_and_safety integer,\n",
    "    transport_postal_and_warehousing integer,\n",
    "    foreign key (area_id) references sa_2(sa2_main16)\n",
    ")\n",
    "\"\"\")\n",
    "BusinessStats.to_sql(\"business\", con=conn, if_exists = \"append\", index = False)"
   ]
  },
  {
   "cell_type": "code",
   "execution_count": 24,
   "id": "20c21269",
   "metadata": {},
   "outputs": [
    {
     "name": "stdout",
     "output_type": "stream",
     "text": [
      "business imported\n"
     ]
    }
   ],
   "source": [
    "\n",
    "print(\"business imported\")"
   ]
  },
  {
   "cell_type": "markdown",
   "id": "b6bcda54",
   "metadata": {},
   "source": [
    "### Neighbourhoods"
   ]
  },
  {
   "cell_type": "code",
   "execution_count": 25,
   "id": "44e66777",
   "metadata": {},
   "outputs": [
    {
     "data": {
      "text/html": [
       "<div>\n",
       "<style scoped>\n",
       "    .dataframe tbody tr th:only-of-type {\n",
       "        vertical-align: middle;\n",
       "    }\n",
       "\n",
       "    .dataframe tbody tr th {\n",
       "        vertical-align: top;\n",
       "    }\n",
       "\n",
       "    .dataframe thead th {\n",
       "        text-align: right;\n",
       "    }\n",
       "</style>\n",
       "<table border=\"1\" class=\"dataframe\">\n",
       "  <thead>\n",
       "    <tr style=\"text-align: right;\">\n",
       "      <th></th>\n",
       "      <th>area_id</th>\n",
       "      <th>area_name</th>\n",
       "      <th>land_area</th>\n",
       "      <th>population</th>\n",
       "      <th>number_of_dwellings</th>\n",
       "      <th>number_of_businesses</th>\n",
       "      <th>median_annual_household_income</th>\n",
       "      <th>avg_monthly_rent</th>\n",
       "      <th>young</th>\n",
       "    </tr>\n",
       "  </thead>\n",
       "  <tbody>\n",
       "    <tr>\n",
       "      <th>0</th>\n",
       "      <td>102011028</td>\n",
       "      <td>Avoca Beach - Copacabana</td>\n",
       "      <td>643.8</td>\n",
       "      <td>7590</td>\n",
       "      <td>2325</td>\n",
       "      <td>738.0</td>\n",
       "      <td>46996.0</td>\n",
       "      <td>1906.0</td>\n",
       "      <td>2214</td>\n",
       "    </tr>\n",
       "    <tr>\n",
       "      <th>1</th>\n",
       "      <td>102011029</td>\n",
       "      <td>Box Head - MacMasters Beach</td>\n",
       "      <td>3208.6</td>\n",
       "      <td>10986</td>\n",
       "      <td>3847</td>\n",
       "      <td>907.0</td>\n",
       "      <td>42621.0</td>\n",
       "      <td>1682.0</td>\n",
       "      <td>2635</td>\n",
       "    </tr>\n",
       "    <tr>\n",
       "      <th>2</th>\n",
       "      <td>102011030</td>\n",
       "      <td>Calga - Kulnura</td>\n",
       "      <td>76795.1</td>\n",
       "      <td>4841</td>\n",
       "      <td>1575</td>\n",
       "      <td>1102.0</td>\n",
       "      <td>42105.0</td>\n",
       "      <td>1182.0</td>\n",
       "      <td>1098</td>\n",
       "    </tr>\n",
       "  </tbody>\n",
       "</table>\n",
       "</div>"
      ],
      "text/plain": [
       "     area_id                    area_name land_area population  \\\n",
       "0  102011028     Avoca Beach - Copacabana     643.8       7590   \n",
       "1  102011029  Box Head - MacMasters Beach    3208.6      10986   \n",
       "2  102011030              Calga - Kulnura   76795.1       4841   \n",
       "\n",
       "  number_of_dwellings number_of_businesses median_annual_household_income  \\\n",
       "0                2325                738.0                        46996.0   \n",
       "1                3847                907.0                        42621.0   \n",
       "2                1575               1102.0                        42105.0   \n",
       "\n",
       "  avg_monthly_rent young  \n",
       "0           1906.0  2214  \n",
       "1           1682.0  2635  \n",
       "2           1182.0  1098  "
      ]
     },
     "execution_count": 25,
     "metadata": {},
     "output_type": "execute_result"
    }
   ],
   "source": [
    "Neighbourhoods.head(3)"
   ]
  },
  {
   "cell_type": "code",
   "execution_count": 26,
   "id": "01cad1ec",
   "metadata": {},
   "outputs": [
    {
     "data": {
      "text/plain": [
       "309"
      ]
     },
     "execution_count": 26,
     "metadata": {},
     "output_type": "execute_result"
    }
   ],
   "source": [
    "conn.execute(\"\"\"\n",
    "drop table if exists neighbourhoods;\n",
    "create table neighbourhoods (\n",
    "    area_id integer,\n",
    "    area_name varchar(100),\n",
    "    land_area float,\n",
    "    population integer,\n",
    "    number_of_dwellings integer,\n",
    "    number_of_businesses float,\n",
    "    median_annual_household_income float,\n",
    "    avg_monthly_rent float,\n",
    "    young integer,\n",
    "    foreign key (area_id) references sa_2(sa2_main16)\n",
    ")\n",
    "\"\"\")\n",
    "Neighbourhoods.to_sql(\"neighbourhoods\", con = conn, if_exists = \"append\", index = False)"
   ]
  },
  {
   "cell_type": "code",
   "execution_count": 27,
   "id": "2c309a57",
   "metadata": {
    "scrolled": false
   },
   "outputs": [
    {
     "name": "stdout",
     "output_type": "stream",
     "text": [
      "neighbourhoods imported\n"
     ]
    }
   ],
   "source": [
    "query(conn, \"select * from neighbourhoods\")\n",
    "print(\"neighbourhoods imported\")"
   ]
  },
  {
   "cell_type": "markdown",
   "id": "6382d38a",
   "metadata": {},
   "source": [
    "### Parking"
   ]
  },
  {
   "cell_type": "code",
   "execution_count": 28,
   "id": "6d777e74",
   "metadata": {},
   "outputs": [
    {
     "data": {
      "text/plain": [
       "376"
      ]
     },
     "execution_count": 28,
     "metadata": {},
     "output_type": "execute_result"
    }
   ],
   "source": [
    "Parking_meters.head(3)\n",
    "conn.execute(\"\"\"\n",
    "drop table if exists parking;\n",
    "create table parking (\n",
    "    parkingspaces integer,\n",
    "    geom GEOMETRY(POINT,4326)\n",
    ")\n",
    "\"\"\")\n",
    "Parking_meters.to_sql(\"parking\", con = conn, if_exists = \"append\", index = False, dtype={'geom': Geometry('POINT', srid)})"
   ]
  },
  {
   "cell_type": "code",
   "execution_count": 29,
   "id": "ded62818",
   "metadata": {
    "scrolled": true
   },
   "outputs": [
    {
     "name": "stdout",
     "output_type": "stream",
     "text": [
      "parking imported\n"
     ]
    }
   ],
   "source": [
    "query(conn, \"select * from parking\")\n",
    "print(\"parking imported\")"
   ]
  },
  {
   "cell_type": "markdown",
   "id": "9b20d7fb",
   "metadata": {},
   "source": [
    "### Walking Count Site"
   ]
  },
  {
   "cell_type": "code",
   "execution_count": 30,
   "id": "b15dc98d",
   "metadata": {},
   "outputs": [
    {
     "data": {
      "text/plain": [
       "120"
      ]
     },
     "execution_count": 30,
     "metadata": {},
     "output_type": "execute_result"
    }
   ],
   "source": [
    "conn.execute(\"\"\"\n",
    "drop table if exists walking_site;\n",
    "create table walking_site (\n",
    "site_id integer primary key,\n",
    "geom GEOMETRY(POINT,4326)\n",
    "\n",
    ")\n",
    "\"\"\")\n",
    "site.to_sql(\"walking_site\", con = conn, if_exists = \"append\", index = False, dtype={'geom': Geometry('POINT', srid)})"
   ]
  },
  {
   "cell_type": "code",
   "execution_count": 31,
   "id": "aa12f0fd",
   "metadata": {},
   "outputs": [
    {
     "name": "stdout",
     "output_type": "stream",
     "text": [
      "walking_site imported\n"
     ]
    }
   ],
   "source": [
    "query(conn, \"select * from walking_site\")\n",
    "print(\"walking_site imported\")"
   ]
  },
  {
   "cell_type": "markdown",
   "id": "dff921c7",
   "metadata": {},
   "source": [
    "### Walking Count Records"
   ]
  },
  {
   "cell_type": "code",
   "execution_count": 32,
   "id": "d676a9a6",
   "metadata": {},
   "outputs": [
    {
     "data": {
      "text/plain": [
       "465"
      ]
     },
     "execution_count": 32,
     "metadata": {},
     "output_type": "execute_result"
    }
   ],
   "source": [
    "conn.execute(\"\"\"\n",
    "drop table if exists walking_record;\n",
    "create table walking_record (\n",
    "site_id integer,\n",
    "totalcount integer\n",
    ")\n",
    "\"\"\")\n",
    "record.to_sql(\"walking_record\", con = conn, if_exists = \"append\", index = False)"
   ]
  },
  {
   "cell_type": "code",
   "execution_count": 33,
   "id": "1b048238",
   "metadata": {},
   "outputs": [
    {
     "name": "stdout",
     "output_type": "stream",
     "text": [
      "walking_record imported\n"
     ]
    }
   ],
   "source": [
    "query(conn, \"select * from walking_record\")\n",
    "print(\"walking_record imported\")"
   ]
  },
  {
   "cell_type": "markdown",
   "id": "c26866bc",
   "metadata": {},
   "source": [
    "## Neighbourhood Join"
   ]
  },
  {
   "cell_type": "markdown",
   "id": "11c19ebd",
   "metadata": {},
   "source": [
    "### Join tables, select columns needed"
   ]
  },
  {
   "cell_type": "code",
   "execution_count": 53,
   "id": "b1164d78",
   "metadata": {
    "scrolled": true
   },
   "outputs": [
    {
     "data": {
      "text/html": [
       "<div>\n",
       "<style scoped>\n",
       "    .dataframe tbody tr th:only-of-type {\n",
       "        vertical-align: middle;\n",
       "    }\n",
       "\n",
       "    .dataframe tbody tr th {\n",
       "        vertical-align: top;\n",
       "    }\n",
       "\n",
       "    .dataframe thead th {\n",
       "        text-align: right;\n",
       "    }\n",
       "</style>\n",
       "<table border=\"1\" class=\"dataframe\">\n",
       "  <thead>\n",
       "    <tr style=\"text-align: right;\">\n",
       "      <th></th>\n",
       "      <th>area_id</th>\n",
       "      <th>accom</th>\n",
       "      <th>retail</th>\n",
       "      <th>health</th>\n",
       "      <th>school</th>\n",
       "      <th>crime</th>\n",
       "      <th>geom</th>\n",
       "    </tr>\n",
       "  </thead>\n",
       "  <tbody>\n",
       "    <tr>\n",
       "      <th>0</th>\n",
       "      <td>101051540</td>\n",
       "      <td>2.999211</td>\n",
       "      <td>4.104183</td>\n",
       "      <td>2.604578</td>\n",
       "      <td>0.970874</td>\n",
       "      <td>3.318093e-09</td>\n",
       "      <td>0106000020E610000001000000010300000002000000C0...</td>\n",
       "    </tr>\n",
       "    <tr>\n",
       "      <th>1</th>\n",
       "      <td>102011028</td>\n",
       "      <td>4.347826</td>\n",
       "      <td>4.611331</td>\n",
       "      <td>7.905138</td>\n",
       "      <td>0.451671</td>\n",
       "      <td>NaN</td>\n",
       "      <td>0106000020E6100000010000000103000000010000005E...</td>\n",
       "    </tr>\n",
       "    <tr>\n",
       "      <th>2</th>\n",
       "      <td>102011029</td>\n",
       "      <td>2.093574</td>\n",
       "      <td>4.096122</td>\n",
       "      <td>3.914072</td>\n",
       "      <td>1.518027</td>\n",
       "      <td>1.060341e-08</td>\n",
       "      <td>0106000020E61000000100000001030000000100000000...</td>\n",
       "    </tr>\n",
       "  </tbody>\n",
       "</table>\n",
       "</div>"
      ],
      "text/plain": [
       "     area_id     accom    retail    health    school         crime  \\\n",
       "0  101051540  2.999211  4.104183  2.604578  0.970874  3.318093e-09   \n",
       "1  102011028  4.347826  4.611331  7.905138  0.451671           NaN   \n",
       "2  102011029  2.093574  4.096122  3.914072  1.518027  1.060341e-08   \n",
       "\n",
       "                                                geom  \n",
       "0  0106000020E610000001000000010300000002000000C0...  \n",
       "1  0106000020E6100000010000000103000000010000005E...  \n",
       "2  0106000020E61000000100000001030000000100000000...  "
      ]
     },
     "execution_count": 53,
     "metadata": {},
     "output_type": "execute_result"
    }
   ],
   "source": [
    "sql = \"\"\"\n",
    "SELECT DISTINCT\n",
    "    A.area_id,\n",
    "    A.accom,\n",
    "    A.retail,\n",
    "    A.health,\n",
    "    B.school * 1000 / cast(n.young as float) as \"school\",\n",
    "    B.crime / land_area as \"crime\",\n",
    "    \n",
    "    A.geom\n",
    "    \n",
    "FROM \n",
    "    (SELECT\n",
    "        n.area_id,\n",
    "        s.geom,\n",
    "        b.accommodation_and_food_services * 1000 / cast(n.population as float) as accom,\n",
    "        b.retail_trade * 1000 / cast(n.population as float) as retail,\n",
    "        b.health_care_and_social_assistance * 1000 / cast(n.population as float) as health\n",
    "\n",
    "    FROM neighbourhoods n  \n",
    "        left join business b on n.area_id = b.area_id\n",
    "        left join sa_2 s on n.area_id = s.sa2_main16\n",
    "        left join break_and_enter e on ST_Intersects(s.geom, e.geom)) A \n",
    "JOIN\n",
    "    (SELECT\n",
    "        count(s.geom) as \"school\",\n",
    "        sum(e.shape_area) as \"crime\",\n",
    "        b.area_id\n",
    "\n",
    "    FROM neighbourhoods n  \n",
    "        left join business b on n.area_id = b.area_id\n",
    "        left join sa_2 s on n.area_id = s.sa2_main16\n",
    "        left join break_and_enter e on ST_Intersects(s.geom, e.geom)\n",
    "    \n",
    "    GROUP BY b.area_id) B \n",
    "\n",
    "ON A.area_id = B.area_id\n",
    "\n",
    "JOIN neighbourhoods n ON A.area_id = n.area_id\n",
    "\"\"\"\n",
    "query(conn, sql)\n",
    "df = pd.read_sql_query(sql, conn)\n",
    "df.head(3)"
   ]
  },
  {
   "cell_type": "markdown",
   "id": "19ca5926",
   "metadata": {},
   "source": [
    "### Calculate S-score for each neighbourhood"
   ]
  },
  {
   "cell_type": "code",
   "execution_count": 54,
   "id": "2bf30fcf",
   "metadata": {},
   "outputs": [
    {
     "name": "stdout",
     "output_type": "stream",
     "text": [
      "accom\n",
      "mean: 3.831107478633231 std: 3.6765597388208464 \n",
      "\n",
      "retail\n",
      "mean: 5.99287739904095 std: 5.247980562071106 \n",
      "\n",
      "health\n",
      "mean: 6.166416001860467 std: 4.8116397949536 \n",
      "\n",
      "school\n",
      "mean: 1.86287778562005 std: 4.369357206792234 \n",
      "\n",
      "crime\n",
      "mean: 3.2568260927523716e-06 std: 6.840343298592073e-06 \n",
      "\n"
     ]
    },
    {
     "data": {
      "text/html": [
       "<div>\n",
       "<style scoped>\n",
       "    .dataframe tbody tr th:only-of-type {\n",
       "        vertical-align: middle;\n",
       "    }\n",
       "\n",
       "    .dataframe tbody tr th {\n",
       "        vertical-align: top;\n",
       "    }\n",
       "\n",
       "    .dataframe thead th {\n",
       "        text-align: right;\n",
       "    }\n",
       "</style>\n",
       "<table border=\"1\" class=\"dataframe\">\n",
       "  <thead>\n",
       "    <tr style=\"text-align: right;\">\n",
       "      <th></th>\n",
       "      <th>area_id</th>\n",
       "      <th>accom</th>\n",
       "      <th>retail</th>\n",
       "      <th>health</th>\n",
       "      <th>school</th>\n",
       "      <th>crime</th>\n",
       "      <th>geom</th>\n",
       "      <th>S_score</th>\n",
       "    </tr>\n",
       "  </thead>\n",
       "  <tbody>\n",
       "    <tr>\n",
       "      <th>0</th>\n",
       "      <td>101051540</td>\n",
       "      <td>-0.226270</td>\n",
       "      <td>-0.359890</td>\n",
       "      <td>-0.740255</td>\n",
       "      <td>-0.204150</td>\n",
       "      <td>-0.475635</td>\n",
       "      <td>0106000020E610000001000000010300000002000000C0...</td>\n",
       "      <td>0.258</td>\n",
       "    </tr>\n",
       "    <tr>\n",
       "      <th>1</th>\n",
       "      <td>102011028</td>\n",
       "      <td>0.140544</td>\n",
       "      <td>-0.263253</td>\n",
       "      <td>0.361358</td>\n",
       "      <td>-0.322978</td>\n",
       "      <td>-0.476120</td>\n",
       "      <td>0106000020E6100000010000000103000000010000005E...</td>\n",
       "      <td>0.597</td>\n",
       "    </tr>\n",
       "    <tr>\n",
       "      <th>2</th>\n",
       "      <td>102011029</td>\n",
       "      <td>-0.472598</td>\n",
       "      <td>-0.361426</td>\n",
       "      <td>-0.468103</td>\n",
       "      <td>-0.078925</td>\n",
       "      <td>-0.474570</td>\n",
       "      <td>0106000020E61000000100000001030000000100000000...</td>\n",
       "      <td>0.288</td>\n",
       "    </tr>\n",
       "  </tbody>\n",
       "</table>\n",
       "</div>"
      ],
      "text/plain": [
       "     area_id     accom    retail    health    school     crime  \\\n",
       "0  101051540 -0.226270 -0.359890 -0.740255 -0.204150 -0.475635   \n",
       "1  102011028  0.140544 -0.263253  0.361358 -0.322978 -0.476120   \n",
       "2  102011029 -0.472598 -0.361426 -0.468103 -0.078925 -0.474570   \n",
       "\n",
       "                                                geom  S_score  \n",
       "0  0106000020E610000001000000010300000002000000C0...    0.258  \n",
       "1  0106000020E6100000010000000103000000010000005E...    0.597  \n",
       "2  0106000020E61000000100000001030000000100000000...    0.288  "
      ]
     },
     "execution_count": 54,
     "metadata": {},
     "output_type": "execute_result"
    }
   ],
   "source": [
    "# calc mean, for z-score\n",
    "d = {}\n",
    "\n",
    "\n",
    "# score functions\n",
    "def z(x, mean, std):\n",
    "    return (x - mean) / std\n",
    "\n",
    "def sigmoid(x):\n",
    "    return round(1 / (1 + np.exp(-x)), 3)\n",
    "\n",
    "\n",
    "# new df recording z-score for all values\n",
    "df_z = df.copy()\n",
    "df['crime'] = df['crime'].fillna(0)\n",
    "\n",
    "for column in df.columns:\n",
    "    if column in [\"area_id\", \"geom\"]:\n",
    "        continue\n",
    "    # calc mean and sd\n",
    "    std = df[column].std()\n",
    "    mean = df[column].mean()\n",
    "    print(column)\n",
    "    print(\"mean:\", mean, \"std:\", std, \"\\n\")\n",
    "        \n",
    "    # calculating Z\n",
    "    df_z[column] = df[column].apply(lambda x: z(x, mean, std))\n",
    "\n",
    "score_col = df_z[\"accom\"] + df_z[\"retail\"] + df_z[\"health\"] + df_z[\"school\"] - df_z[\"crime\"]\n",
    "df_z[\"S_score\"] = score_col\n",
    "df_z[\"S_score\"] = df_z[\"S_score\"].apply(lambda x : sigmoid(x))\n",
    "df_z.head(3)"
   ]
  },
  {
   "cell_type": "markdown",
   "id": "f7f4da4e",
   "metadata": {},
   "source": [
    "# Visualisation"
   ]
  },
  {
   "cell_type": "markdown",
   "id": "bab8ac28",
   "metadata": {},
   "source": [
    "### Greater Sydney Liveability"
   ]
  },
  {
   "cell_type": "code",
   "execution_count": 43,
   "id": "e050d731",
   "metadata": {
    "scrolled": false
   },
   "outputs": [
    {
     "data": {
      "text/plain": [
       "<AxesSubplot:>"
      ]
     },
     "execution_count": 43,
     "metadata": {},
     "output_type": "execute_result"
    },
    {
     "data": {
      "image/png": "[encoded data removed]",
      "text/plain": [
       "<Figure size 720x720 with 2 Axes>"
      ]
     },
     "metadata": {
      "needs_background": "light"
     },
     "output_type": "display_data"
    }
   ],
   "source": [
    "s_score = df_z[\"S_score\"].tolist()\n",
    "gsyd_shapeog[\"S_score\"] = s_score\n",
    "gsyd_shapeog.plot(column = \"S_score\", figsize=(10, 10), legend = True)"
   ]
  },
  {
   "cell_type": "markdown",
   "id": "361489eb",
   "metadata": {},
   "source": [
    "### avg_monthly_rent correlation"
   ]
  },
  {
   "cell_type": "code",
   "execution_count": 47,
   "id": "cda7530e",
   "metadata": {
    "scrolled": true
   },
   "outputs": [
    {
     "data": {
      "image/png": "[encoded data removed]",
      "text/plain": [
       "<Figure size 432x288 with 1 Axes>"
      ]
     },
     "metadata": {
      "needs_background": "light"
     },
     "output_type": "display_data"
    }
   ],
   "source": [
    "Neighbourhoods['median_annual_household_income'] = Neighbourhoods['median_annual_household_income'].apply(lambda x: float(x))\n",
    "Neighbourhoods['avg_monthly_rent'] = Neighbourhoods['avg_monthly_rent'].apply(lambda x: float(x))\n",
    "\n",
    "Neighbourhoods[\"S_score\"] = s_score\n",
    "plt.scatter(Neighbourhoods[\"S_score\"], Neighbourhoods[\"avg_monthly_rent\"])\n",
    "plt.show()"
   ]
  },
  {
   "cell_type": "markdown",
   "id": "8b6b9aa4",
   "metadata": {},
   "source": [
    "### median_annual_household_income"
   ]
  },
  {
   "cell_type": "code",
   "execution_count": 49,
   "id": "2a8f20c8",
   "metadata": {},
   "outputs": [
    {
     "data": {
      "image/png": "[encoded data removed]",
      "text/plain": [
       "<Figure size 432x288 with 1 Axes>"
      ]
     },
     "metadata": {
      "needs_background": "light"
     },
     "output_type": "display_data"
    }
   ],
   "source": [
    "Neighbourhoods[\"S_score\"] = s_score\n",
    "plt.scatter(Neighbourhoods[\"S_score\"], Neighbourhoods[\"median_annual_household_income\"])\n",
    "plt.show()"
   ]
  },
  {
   "cell_type": "markdown",
   "id": "d5200f35",
   "metadata": {},
   "source": [
    "# Part 3 Join"
   ]
  },
  {
   "cell_type": "markdown",
   "id": "4bfae12e",
   "metadata": {},
   "source": [
    "### join tables, select columns needed"
   ]
  },
  {
   "cell_type": "code",
   "execution_count": 61,
   "id": "468dccf1",
   "metadata": {
    "scrolled": true
   },
   "outputs": [
    {
     "data": {
      "text/html": [
       "<div>\n",
       "<style scoped>\n",
       "    .dataframe tbody tr th:only-of-type {\n",
       "        vertical-align: middle;\n",
       "    }\n",
       "\n",
       "    .dataframe tbody tr th {\n",
       "        vertical-align: top;\n",
       "    }\n",
       "\n",
       "    .dataframe thead th {\n",
       "        text-align: right;\n",
       "    }\n",
       "</style>\n",
       "<table border=\"1\" class=\"dataframe\">\n",
       "  <thead>\n",
       "    <tr style=\"text-align: right;\">\n",
       "      <th></th>\n",
       "      <th>area_id</th>\n",
       "      <th>parking</th>\n",
       "      <th>flow</th>\n",
       "      <th>avg_monthly_rent</th>\n",
       "      <th>median_annual_household_income</th>\n",
       "      <th>accom</th>\n",
       "    </tr>\n",
       "  </thead>\n",
       "  <tbody>\n",
       "    <tr>\n",
       "      <th>0</th>\n",
       "      <td>117031329</td>\n",
       "      <td>10070.0</td>\n",
       "      <td>3.146186e+07</td>\n",
       "      <td>2491.0</td>\n",
       "      <td>59293.0</td>\n",
       "      <td>15.708072</td>\n",
       "    </tr>\n",
       "    <tr>\n",
       "      <th>1</th>\n",
       "      <td>117031330</td>\n",
       "      <td>0.0</td>\n",
       "      <td>3.592000e+04</td>\n",
       "      <td>2581.0</td>\n",
       "      <td>69680.0</td>\n",
       "      <td>7.799349</td>\n",
       "    </tr>\n",
       "    <tr>\n",
       "      <th>2</th>\n",
       "      <td>117031331</td>\n",
       "      <td>6941.0</td>\n",
       "      <td>1.266221e+07</td>\n",
       "      <td>2162.0</td>\n",
       "      <td>56691.0</td>\n",
       "      <td>5.603927</td>\n",
       "    </tr>\n",
       "    <tr>\n",
       "      <th>3</th>\n",
       "      <td>117031332</td>\n",
       "      <td>3745.0</td>\n",
       "      <td>1.738955e+07</td>\n",
       "      <td>2270.0</td>\n",
       "      <td>58210.0</td>\n",
       "      <td>7.322404</td>\n",
       "    </tr>\n",
       "    <tr>\n",
       "      <th>4</th>\n",
       "      <td>117031333</td>\n",
       "      <td>1925.0</td>\n",
       "      <td>7.288920e+06</td>\n",
       "      <td>2256.0</td>\n",
       "      <td>58253.0</td>\n",
       "      <td>8.400185</td>\n",
       "    </tr>\n",
       "    <tr>\n",
       "      <th>5</th>\n",
       "      <td>117031334</td>\n",
       "      <td>17432.0</td>\n",
       "      <td>3.308880e+07</td>\n",
       "      <td>2575.0</td>\n",
       "      <td>47393.0</td>\n",
       "      <td>9.591828</td>\n",
       "    </tr>\n",
       "    <tr>\n",
       "      <th>6</th>\n",
       "      <td>117031335</td>\n",
       "      <td>3130.0</td>\n",
       "      <td>1.251222e+07</td>\n",
       "      <td>2193.0</td>\n",
       "      <td>51347.0</td>\n",
       "      <td>5.599499</td>\n",
       "    </tr>\n",
       "    <tr>\n",
       "      <th>7</th>\n",
       "      <td>117031336</td>\n",
       "      <td>11592.0</td>\n",
       "      <td>5.446495e+07</td>\n",
       "      <td>2342.0</td>\n",
       "      <td>58396.0</td>\n",
       "      <td>15.223649</td>\n",
       "    </tr>\n",
       "    <tr>\n",
       "      <th>8</th>\n",
       "      <td>117031337</td>\n",
       "      <td>114180.0</td>\n",
       "      <td>1.211543e+09</td>\n",
       "      <td>2998.0</td>\n",
       "      <td>27311.0</td>\n",
       "      <td>54.337311</td>\n",
       "    </tr>\n",
       "    <tr>\n",
       "      <th>9</th>\n",
       "      <td>117031338</td>\n",
       "      <td>524.0</td>\n",
       "      <td>8.882160e+05</td>\n",
       "      <td>2302.0</td>\n",
       "      <td>57055.0</td>\n",
       "      <td>6.090327</td>\n",
       "    </tr>\n",
       "  </tbody>\n",
       "</table>\n",
       "</div>"
      ],
      "text/plain": [
       "     area_id   parking          flow  avg_monthly_rent  \\\n",
       "0  117031329   10070.0  3.146186e+07            2491.0   \n",
       "1  117031330       0.0  3.592000e+04            2581.0   \n",
       "2  117031331    6941.0  1.266221e+07            2162.0   \n",
       "3  117031332    3745.0  1.738955e+07            2270.0   \n",
       "4  117031333    1925.0  7.288920e+06            2256.0   \n",
       "5  117031334   17432.0  3.308880e+07            2575.0   \n",
       "6  117031335    3130.0  1.251222e+07            2193.0   \n",
       "7  117031336   11592.0  5.446495e+07            2342.0   \n",
       "8  117031337  114180.0  1.211543e+09            2998.0   \n",
       "9  117031338     524.0  8.882160e+05            2302.0   \n",
       "\n",
       "   median_annual_household_income      accom  \n",
       "0                         59293.0  15.708072  \n",
       "1                         69680.0   7.799349  \n",
       "2                         56691.0   5.603927  \n",
       "3                         58210.0   7.322404  \n",
       "4                         58253.0   8.400185  \n",
       "5                         47393.0   9.591828  \n",
       "6                         51347.0   5.599499  \n",
       "7                         58396.0  15.223649  \n",
       "8                         27311.0  54.337311  \n",
       "9                         57055.0   6.090327  "
      ]
     },
     "execution_count": 61,
     "metadata": {},
     "output_type": "execute_result"
    }
   ],
   "source": [
    "sql = \"\"\"\n",
    "\n",
    "SELECT \n",
    "    A.area_id,\n",
    "    A.parking,\n",
    "    A.flow,\n",
    "    B.avg_monthly_rent,\n",
    "    B.median_annual_household_income,\n",
    "    B.accom  \n",
    "\n",
    "FROM\n",
    "    (SELECT\n",
    "        n.area_id,\n",
    "        sum(p.parkingspaces) as \"parking\",\n",
    "        sum(A.sum) as \"flow\"\n",
    "\n",
    "    FROM neighbourhoods n  \n",
    "        left join business b on n.area_id = b.area_id\n",
    "        left join sa_2 s on n.area_id = s.sa2_main16\n",
    "        left join parking p on ST_Within(p.geom, s.geom)\n",
    "\n",
    "        left join (select \n",
    "                       s.site_id,\n",
    "                       sum(totalcount),\n",
    "                       s.geom\n",
    "                   from \n",
    "                       walking_site s\n",
    "                       left join walking_record r on s.site_id = r.site_id\n",
    "                   group by \n",
    "                       s.site_id) A \n",
    "             on ST_Within(A.geom, s.geom)\n",
    "\n",
    "    WHERE s.sa3_name16 = 'Sydney Inner City'\n",
    "\n",
    "    GROUP BY n.area_id) A\n",
    "    \n",
    "LEFT JOIN \n",
    "    (SELECT DISTINCT\n",
    "        n.area_id,\n",
    "        n.avg_monthly_rent,\n",
    "        n.median_annual_household_income,\n",
    "        b.accommodation_and_food_services * 1000 / cast(n.population as float) as accom  \n",
    "\n",
    "    FROM neighbourhoods n  \n",
    "        left join business b on n.area_id = b.area_id\n",
    "        left join sa_2 s on n.area_id = s.sa2_main16\n",
    "        left join break_and_enter e on ST_Intersects(s.geom, e.geom)\n",
    "\n",
    "    WHERE s.sa3_name16 = 'Sydney Inner City') B ON A.area_id = B.area_id\n",
    "\"\"\"\n",
    "\n",
    "df2 = pd.read_sql_query(sql, conn)\n",
    "df2 = df2.fillna(0)\n",
    "df2\n"
   ]
  },
  {
   "cell_type": "markdown",
   "id": "f4659f14",
   "metadata": {},
   "source": [
    "### Calculate score S(z_parking + z_flow + z_income - z_rent- z_accomm)"
   ]
  },
  {
   "cell_type": "code",
   "execution_count": 59,
   "id": "93f2fcc4",
   "metadata": {
    "scrolled": true
   },
   "outputs": [
    {
     "name": "stdout",
     "output_type": "stream",
     "text": [
      "parking\n",
      "mean: 16953.9 std: 34606.29156494203 \n",
      "\n",
      "flow\n",
      "mean: 138133561.4 std: 377528795.76889956 \n",
      "\n",
      "avg_monthly_rent\n",
      "mean: 2417.0 std: 253.08716109496964 \n",
      "\n",
      "median_annual_household_income\n",
      "mean: 54362.9 std: 11091.870370781577 \n",
      "\n",
      "accom\n",
      "mean: 13.567655070917297 std: 14.78399238619445 \n",
      "\n"
     ]
    },
    {
     "data": {
      "text/html": [
       "<div>\n",
       "<style scoped>\n",
       "    .dataframe tbody tr th:only-of-type {\n",
       "        vertical-align: middle;\n",
       "    }\n",
       "\n",
       "    .dataframe tbody tr th {\n",
       "        vertical-align: top;\n",
       "    }\n",
       "\n",
       "    .dataframe thead th {\n",
       "        text-align: right;\n",
       "    }\n",
       "</style>\n",
       "<table border=\"1\" class=\"dataframe\">\n",
       "  <thead>\n",
       "    <tr style=\"text-align: right;\">\n",
       "      <th></th>\n",
       "      <th>area_id</th>\n",
       "      <th>parking</th>\n",
       "      <th>flow</th>\n",
       "      <th>avg_monthly_rent</th>\n",
       "      <th>median_annual_household_income</th>\n",
       "      <th>accom</th>\n",
       "      <th>S_score</th>\n",
       "    </tr>\n",
       "  </thead>\n",
       "  <tbody>\n",
       "    <tr>\n",
       "      <th>0</th>\n",
       "      <td>117031329</td>\n",
       "      <td>-0.198920</td>\n",
       "      <td>-0.282552</td>\n",
       "      <td>0.292389</td>\n",
       "      <td>0.444479</td>\n",
       "      <td>0.144779</td>\n",
       "      <td>0.384</td>\n",
       "    </tr>\n",
       "    <tr>\n",
       "      <th>1</th>\n",
       "      <td>117031330</td>\n",
       "      <td>-0.489908</td>\n",
       "      <td>-0.365794</td>\n",
       "      <td>0.647998</td>\n",
       "      <td>1.380930</td>\n",
       "      <td>-0.390172</td>\n",
       "      <td>0.566</td>\n",
       "    </tr>\n",
       "    <tr>\n",
       "      <th>2</th>\n",
       "      <td>117031331</td>\n",
       "      <td>-0.289338</td>\n",
       "      <td>-0.332349</td>\n",
       "      <td>-1.007558</td>\n",
       "      <td>0.209892</td>\n",
       "      <td>-0.538672</td>\n",
       "      <td>0.757</td>\n",
       "    </tr>\n",
       "    <tr>\n",
       "      <th>3</th>\n",
       "      <td>117031332</td>\n",
       "      <td>-0.381691</td>\n",
       "      <td>-0.319827</td>\n",
       "      <td>-0.580828</td>\n",
       "      <td>0.346840</td>\n",
       "      <td>-0.422433</td>\n",
       "      <td>0.657</td>\n",
       "    </tr>\n",
       "    <tr>\n",
       "      <th>4</th>\n",
       "      <td>117031333</td>\n",
       "      <td>-0.434282</td>\n",
       "      <td>-0.346582</td>\n",
       "      <td>-0.636144</td>\n",
       "      <td>0.350716</td>\n",
       "      <td>-0.349531</td>\n",
       "      <td>0.635</td>\n",
       "    </tr>\n",
       "    <tr>\n",
       "      <th>5</th>\n",
       "      <td>117031334</td>\n",
       "      <td>0.013815</td>\n",
       "      <td>-0.278243</td>\n",
       "      <td>0.624291</td>\n",
       "      <td>-0.628379</td>\n",
       "      <td>-0.268928</td>\n",
       "      <td>0.223</td>\n",
       "    </tr>\n",
       "    <tr>\n",
       "      <th>6</th>\n",
       "      <td>117031335</td>\n",
       "      <td>-0.399462</td>\n",
       "      <td>-0.332746</td>\n",
       "      <td>-0.885071</td>\n",
       "      <td>-0.271902</td>\n",
       "      <td>-0.538972</td>\n",
       "      <td>0.603</td>\n",
       "    </tr>\n",
       "    <tr>\n",
       "      <th>7</th>\n",
       "      <td>117031336</td>\n",
       "      <td>-0.154940</td>\n",
       "      <td>-0.221622</td>\n",
       "      <td>-0.296341</td>\n",
       "      <td>0.363609</td>\n",
       "      <td>0.112013</td>\n",
       "      <td>0.543</td>\n",
       "    </tr>\n",
       "    <tr>\n",
       "      <th>8</th>\n",
       "      <td>117031337</td>\n",
       "      <td>2.809492</td>\n",
       "      <td>2.843252</td>\n",
       "      <td>2.295652</td>\n",
       "      <td>-2.438894</td>\n",
       "      <td>2.757689</td>\n",
       "      <td>0.137</td>\n",
       "    </tr>\n",
       "    <tr>\n",
       "      <th>9</th>\n",
       "      <td>117031338</td>\n",
       "      <td>-0.474766</td>\n",
       "      <td>-0.363536</td>\n",
       "      <td>-0.454389</td>\n",
       "      <td>0.242709</td>\n",
       "      <td>-0.505772</td>\n",
       "      <td>0.590</td>\n",
       "    </tr>\n",
       "  </tbody>\n",
       "</table>\n",
       "</div>"
      ],
      "text/plain": [
       "     area_id   parking      flow  avg_monthly_rent  \\\n",
       "0  117031329 -0.198920 -0.282552          0.292389   \n",
       "1  117031330 -0.489908 -0.365794          0.647998   \n",
       "2  117031331 -0.289338 -0.332349         -1.007558   \n",
       "3  117031332 -0.381691 -0.319827         -0.580828   \n",
       "4  117031333 -0.434282 -0.346582         -0.636144   \n",
       "5  117031334  0.013815 -0.278243          0.624291   \n",
       "6  117031335 -0.399462 -0.332746         -0.885071   \n",
       "7  117031336 -0.154940 -0.221622         -0.296341   \n",
       "8  117031337  2.809492  2.843252          2.295652   \n",
       "9  117031338 -0.474766 -0.363536         -0.454389   \n",
       "\n",
       "   median_annual_household_income     accom  S_score  \n",
       "0                        0.444479  0.144779    0.384  \n",
       "1                        1.380930 -0.390172    0.566  \n",
       "2                        0.209892 -0.538672    0.757  \n",
       "3                        0.346840 -0.422433    0.657  \n",
       "4                        0.350716 -0.349531    0.635  \n",
       "5                       -0.628379 -0.268928    0.223  \n",
       "6                       -0.271902 -0.538972    0.603  \n",
       "7                        0.363609  0.112013    0.543  \n",
       "8                       -2.438894  2.757689    0.137  \n",
       "9                        0.242709 -0.505772    0.590  "
      ]
     },
     "execution_count": 59,
     "metadata": {},
     "output_type": "execute_result"
    }
   ],
   "source": [
    "df_z2 = df2.copy() \n",
    "\n",
    "# score functions\n",
    "def z(x, mean, std):\n",
    "    return (x - mean) / std\n",
    "\n",
    "def sigmoid(x):\n",
    "    return round(1 / (1 + np.exp(-x)), 3)\n",
    "\n",
    "for column in df2.columns:\n",
    "    if column == \"area_id\":\n",
    "        continue\n",
    "    # calc mean and sd\n",
    "    std = df2[column].std()\n",
    "    mean = df2[column].mean()\n",
    "    print(column)\n",
    "    print(\"mean:\", mean, \"std:\", std, \"\\n\")\n",
    "        \n",
    "    # calculating Z\n",
    "    df_z2[column] = df2[column].apply(lambda x: z(x, mean, std))\n",
    "\n",
    "score_col2 = df_z2[\"parking\"] + df_z2[\"flow\"] + df_z2[\"median_annual_household_income\"] - df_z2[\"avg_monthly_rent\"] - df_z2[\"accom\"] \n",
    "df_z2[\"S_score\"] = score_col2\n",
    "df_z2[\"S_score\"] = df_z2[\"S_score\"].apply(lambda x : sigmoid(x))\n",
    "df_z2"
   ]
  },
  {
   "cell_type": "code",
   "execution_count": 60,
   "id": "7fec8b2e",
   "metadata": {},
   "outputs": [
    {
     "name": "stderr",
     "output_type": "stream",
     "text": [
      "/Users/little_sun/opt/anaconda3/lib/python3.9/site-packages/geopandas/geodataframe.py:1351: SettingWithCopyWarning: \n",
      "A value is trying to be set on a copy of a slice from a DataFrame.\n",
      "Try using .loc[row_indexer,col_indexer] = value instead\n",
      "\n",
      "See the caveats in the documentation: https://pandas.pydata.org/pandas-docs/stable/user_guide/indexing.html#returning-a-view-versus-a-copy\n",
      "  super().__setitem__(key, value)\n"
     ]
    },
    {
     "data": {
      "text/plain": [
       "<AxesSubplot:>"
      ]
     },
     "execution_count": 60,
     "metadata": {},
     "output_type": "execute_result"
    },
    {
     "data": {
      "image/png": "[encoded data removed]",
      "text/plain": [
       "<Figure size 720x720 with 2 Axes>"
      ]
     },
     "metadata": {
      "needs_background": "light"
     },
     "output_type": "display_data"
    }
   ],
   "source": [
    "\n",
    "s_score = df_z2[\"S_score\"].tolist()\n",
    "sydney_shape[\"S_score\"] = s_score\n",
    "sydney_shape.plot(column = \"S_score\", figsize=(10, 10), legend = True)"
   ]
  },
  {
   "cell_type": "code",
   "execution_count": 34,
   "id": "92452594",
   "metadata": {},
   "outputs": [
    {
     "data": {
      "text/plain": [
       "['spatial_ref_sys',\n",
       " 'break_and_enter',\n",
       " 'catchments',\n",
       " 'sa_2',\n",
       " 'business',\n",
       " 'neighbourhoods',\n",
       " 'parking',\n",
       " 'walking_site',\n",
       " 'walking_record']"
      ]
     },
     "execution_count": 34,
     "metadata": {},
     "output_type": "execute_result"
    }
   ],
   "source": [
    "inspect(db).get_table_names(schema='public')"
   ]
  },
  {
   "cell_type": "code",
   "execution_count": 31,
   "id": "df336f82",
   "metadata": {},
   "outputs": [],
   "source": [
    "conn.close()\n",
    "db.dispose()"
   ]
  }
 ],
 "metadata": {
  "kernelspec": {
   "display_name": "Python 3 (ipykernel)",
   "language": "python",
   "name": "python3"
  },
  "language_info": {
   "codemirror_mode": {
    "name": "ipython",
    "version": 3
   },
   "file_extension": ".py",
   "mimetype": "text/x-python",
   "name": "python",
   "nbconvert_exporter": "python",
   "pygments_lexer": "ipython3",
   "version": "3.9.7"
  }
 },
 "nbformat": 4,
 "nbformat_minor": 5
}
